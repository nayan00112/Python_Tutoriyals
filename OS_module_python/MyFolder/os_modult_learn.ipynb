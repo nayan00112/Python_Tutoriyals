{
 "cells": [
  {
   "cell_type": "code",
   "execution_count": 15,
   "id": "19aa2e46-2852-4997-8482-2bea49ab3b1b",
   "metadata": {},
   "outputs": [
    {
     "data": {
      "text/plain": [
       "'C:\\\\Users\\\\ASUS\\\\Downloads\\\\tempPythonPandas'"
      ]
     },
     "execution_count": 15,
     "metadata": {},
     "output_type": "execute_result"
    }
   ],
   "source": [
    "import os\n",
    "\n",
    "# mkdir for make diractory.\n",
    "os.mkdir(\"Nayan1234\")\n",
    "os.getcwd()"
   ]
  },
  {
   "cell_type": "code",
   "execution_count": 16,
   "id": "cd16ddcd-4b9c-47df-8a51-e411bd17d8a4",
   "metadata": {},
   "outputs": [],
   "source": [
    "#Rename folder \n",
    "os.rename(\"Nayan1234\", \"Nayan321\")"
   ]
  },
  {
   "cell_type": "code",
   "execution_count": 18,
   "id": "eb8d6375-2030-462d-b39c-223769c9ff1e",
   "metadata": {},
   "outputs": [],
   "source": [
    "# There is exist file named \"tempfile.txt\"\n",
    "# here, we remove that file.\n",
    "\n",
    "os.remove(\"tempfile.txt\")\n"
   ]
  },
  {
   "cell_type": "code",
   "execution_count": 19,
   "id": "2e39cb00-9508-4f5b-bf3c-7b6707485d9c",
   "metadata": {},
   "outputs": [
    {
     "name": "stdout",
     "output_type": "stream",
     "text": [
      "C:\\Users\\ASUS\\Downloads\\tempPythonPandas\n"
     ]
    }
   ],
   "source": [
    "# Get current path\n",
    "print(os.getcwd())"
   ]
  },
  {
   "cell_type": "code",
   "execution_count": 21,
   "id": "7511aeef-a7e8-47f7-813e-b7f601adb02b",
   "metadata": {},
   "outputs": [
    {
     "name": "stdout",
     "output_type": "stream",
     "text": [
      "Downloads\\tempPythonPandas\\Ok\n",
      "C:\\Users\\ASUS\\Downloads\\tempPythonPandas\n"
     ]
    },
    {
     "ename": "FileNotFoundError",
     "evalue": "[WinError 3] The system cannot find the path specified: 'Downloads\\\\tempPythonPandas\\\\Ok'",
     "output_type": "error",
     "traceback": [
      "\u001b[1;31m---------------------------------------------------------------------------\u001b[0m",
      "\u001b[1;31mFileNotFoundError\u001b[0m                         Traceback (most recent call last)",
      "Cell \u001b[1;32mIn[21], line 13\u001b[0m\n\u001b[0;32m     11\u001b[0m \u001b[38;5;28mprint\u001b[39m(path)\n\u001b[0;32m     12\u001b[0m \u001b[38;5;28mprint\u001b[39m(os\u001b[38;5;241m.\u001b[39mgetcwd())\n\u001b[1;32m---> 13\u001b[0m \u001b[43mos\u001b[49m\u001b[38;5;241;43m.\u001b[39;49m\u001b[43mrmdir\u001b[49m\u001b[43m(\u001b[49m\u001b[43mpath\u001b[49m\u001b[43m)\u001b[49m\n\u001b[0;32m     14\u001b[0m \u001b[38;5;28mprint\u001b[39m(\u001b[38;5;124m\"\u001b[39m\u001b[38;5;124mDirectiory \u001b[39m\u001b[38;5;132;01m%s\u001b[39;00m\u001b[38;5;124m has been removed successfully\u001b[39m\u001b[38;5;124m\"\u001b[39m \u001b[38;5;241m%\u001b[39m\u001b[38;5;28mdir\u001b[39m)\n",
      "\u001b[1;31mFileNotFoundError\u001b[0m: [WinError 3] The system cannot find the path specified: 'Downloads\\\\tempPythonPandas\\\\Ok'"
     ]
    }
   ],
   "source": [
    "# NOT WORKING\n",
    "\n",
    "# remove director\n",
    "\n",
    "# Directory name\n",
    "dir = \"Ok\"\n",
    "\n",
    "# Parant Directory\n",
    "parant = r\"Downloads\\tempPythonPandas\"\n",
    "\n",
    "# path\n",
    "path = os.path.join(parant, dir)\n",
    "print(path)\n",
    "print(os.getcwd())\n",
    "os.rmdir(path)\n",
    "print(\"Directiory %s has been removed successfully\" %dir)\n"
   ]
  },
  {
   "cell_type": "code",
   "execution_count": null,
   "id": "a696aaa2-aeb2-45d6-9cac-311bd94d2b16",
   "metadata": {},
   "outputs": [],
   "source": []
  }
 ],
 "metadata": {
  "kernelspec": {
   "display_name": "Python 3 (ipykernel)",
   "language": "python",
   "name": "python3"
  },
  "language_info": {
   "codemirror_mode": {
    "name": "ipython",
    "version": 3
   },
   "file_extension": ".py",
   "mimetype": "text/x-python",
   "name": "python",
   "nbconvert_exporter": "python",
   "pygments_lexer": "ipython3",
   "version": "3.9.5"
  }
 },
 "nbformat": 4,
 "nbformat_minor": 5
}
