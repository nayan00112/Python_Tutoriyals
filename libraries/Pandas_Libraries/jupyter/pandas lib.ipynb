{
 "cells": [
  {
   "cell_type": "markdown",
   "id": "406451b3-ea05-453e-a0ed-2279ab0bd1d0",
   "metadata": {},
   "source": [
    "Pandas library:\n",
    "\n",
    "Pandas is a powerful Python library for data manipulation and analysis. Below is a list of some of the most commonly used functions and methods in Pandas along with a brief description of their work. Please note that Pandas is a vast library, and this list is not exhaustive, but it covers many essential functions:\r\n"
   ]
  },
  {
   "cell_type": "raw",
   "id": "4b7f1df7-e89b-4199-a3b4-317227b8bb36",
   "metadata": {},
   "source": [
    "Data Structures:\n",
    "1. `pd.Series(data)`: Create a one-dimensional labeled array (Series) capable of holding various data types.\n",
    "2. `pd.DataFrame(data)`: Create a two-dimensional labeled data structure with columns that can hold different data types."
   ]
  },
  {
   "cell_type": "code",
   "execution_count": 1,
   "id": "3898dbf9-ea05-4ba0-88d8-25324cdce97d",
   "metadata": {},
   "outputs": [
    {
     "data": {
      "text/plain": [
       "0     Nayan\n",
       "1    Marmik\n",
       "2     Dharm\n",
       "dtype: object"
      ]
     },
     "execution_count": 1,
     "metadata": {},
     "output_type": "execute_result"
    }
   ],
   "source": [
    "# import pandas\n",
    "import pandas as pd\n",
    "\n",
    "list1 = [\"Nayan\", \"Marmik\", \"Dharm\"]\n",
    "\n",
    "# make serial data structure\n",
    "s = pd.Series(list1)\n",
    "s"
   ]
  },
  {
   "cell_type": "code",
   "execution_count": 2,
   "id": "9341faee-f6ec-4240-85cc-91d2f0083d0c",
   "metadata": {},
   "outputs": [
    {
     "data": {
      "text/html": [
       "<div>\n",
       "<style scoped>\n",
       "    .dataframe tbody tr th:only-of-type {\n",
       "        vertical-align: middle;\n",
       "    }\n",
       "\n",
       "    .dataframe tbody tr th {\n",
       "        vertical-align: top;\n",
       "    }\n",
       "\n",
       "    .dataframe thead th {\n",
       "        text-align: right;\n",
       "    }\n",
       "</style>\n",
       "<table border=\"1\" class=\"dataframe\">\n",
       "  <thead>\n",
       "    <tr style=\"text-align: right;\">\n",
       "      <th></th>\n",
       "      <th>Name</th>\n",
       "      <th>email</th>\n",
       "      <th>phone number:</th>\n",
       "    </tr>\n",
       "  </thead>\n",
       "  <tbody>\n",
       "    <tr>\n",
       "      <th>0</th>\n",
       "      <td>Nayan</td>\n",
       "      <td>nayantest123@gmail.com</td>\n",
       "      <td>9876543210</td>\n",
       "    </tr>\n",
       "  </tbody>\n",
       "</table>\n",
       "</div>"
      ],
      "text/plain": [
       "    Name                   email phone number:\n",
       "0  Nayan  nayantest123@gmail.com    9876543210"
      ]
     },
     "execution_count": 2,
     "metadata": {},
     "output_type": "execute_result"
    }
   ],
   "source": [
    "# Valid dictionary formate for making DataFrame\n",
    "dict = {\n",
    "    \"Name\": [\"Nayan\"],\n",
    "    \"email\":[\"nayantest123@gmail.com\"],\n",
    "    \"phone number:\":[\"9876543210\"]\n",
    "}\n",
    "\n",
    "# Below dictionary formate in invalid.\n",
    "# dict = {\n",
    "#     \"Name\": \"Nayan\",\n",
    "#     \"email\":\"nayantest123@gmail.com\",\n",
    "#     \"phone number:\":\"9876543210\"\n",
    "# }\n",
    "\n",
    "df = pd.DataFrame(dict)\n",
    "df\n",
    "\n"
   ]
  },
  {
   "cell_type": "code",
   "execution_count": 3,
   "id": "d80999af-f019-40df-a2fe-ddcb066a8975",
   "metadata": {},
   "outputs": [
    {
     "data": {
      "text/html": [
       "<div>\n",
       "<style scoped>\n",
       "    .dataframe tbody tr th:only-of-type {\n",
       "        vertical-align: middle;\n",
       "    }\n",
       "\n",
       "    .dataframe tbody tr th {\n",
       "        vertical-align: top;\n",
       "    }\n",
       "\n",
       "    .dataframe thead th {\n",
       "        text-align: right;\n",
       "    }\n",
       "</style>\n",
       "<table border=\"1\" class=\"dataframe\">\n",
       "  <thead>\n",
       "    <tr style=\"text-align: right;\">\n",
       "      <th></th>\n",
       "      <th>Name</th>\n",
       "      <th>Roll_Num</th>\n",
       "      <th>Email</th>\n",
       "    </tr>\n",
       "  </thead>\n",
       "  <tbody>\n",
       "    <tr>\n",
       "      <th>0</th>\n",
       "      <td>Nayan</td>\n",
       "      <td>12</td>\n",
       "      <td>Nayan123@gmail.com</td>\n",
       "    </tr>\n",
       "    <tr>\n",
       "      <th>1</th>\n",
       "      <td>Jignesh</td>\n",
       "      <td>14</td>\n",
       "      <td>Jignesh123@gmail.com</td>\n",
       "    </tr>\n",
       "    <tr>\n",
       "      <th>2</th>\n",
       "      <td>Rudra</td>\n",
       "      <td>15</td>\n",
       "      <td>Rudra123@gmail.com</td>\n",
       "    </tr>\n",
       "    <tr>\n",
       "      <th>3</th>\n",
       "      <td>Om</td>\n",
       "      <td>16</td>\n",
       "      <td>Om123@gmail.com</td>\n",
       "    </tr>\n",
       "  </tbody>\n",
       "</table>\n",
       "</div>"
      ],
      "text/plain": [
       "      Name  Roll_Num                 Email\n",
       "0    Nayan        12    Nayan123@gmail.com\n",
       "1  Jignesh        14  Jignesh123@gmail.com\n",
       "2    Rudra        15    Rudra123@gmail.com\n",
       "3       Om        16       Om123@gmail.com"
      ]
     },
     "execution_count": 3,
     "metadata": {},
     "output_type": "execute_result"
    }
   ],
   "source": [
    "datas = {\n",
    "    \"Name\": [\"Nayan\", \"Jignesh\", \"Rudra\", \"Om\"],\n",
    "    \"Roll_Num\": [12, 14, 15, 16],\n",
    "    \"Email\": [\"Nayan123@gmail.com\", \"Jignesh123@gmail.com\", \"Rudra123@gmail.com\", \"Om123@gmail.com\"],\n",
    "}\n",
    "\n",
    "df = pd.DataFrame(datas)\n",
    "df"
   ]
  },
  {
   "cell_type": "raw",
   "id": "05aab128-6c89-4f48-9f2f-f20f04e00944",
   "metadata": {},
   "source": [
    "Reading and Writing Data:\n",
    "3. `pd.read_csv()`: Read data from a CSV file into a DataFrame.\n",
    "4. `pd.read_excel()`: Read data from an Excel file into a DataFrame.\n",
    "5. `df.to_csv()`: Write a DataFrame to a CSV file.\n",
    "6. `df.to_excel()`: Write a DataFrame to an Excel file.\n"
   ]
  },
  {
   "cell_type": "code",
   "execution_count": 4,
   "id": "a7a8223b-50b9-434b-a914-c6ee30cfe233",
   "metadata": {},
   "outputs": [],
   "source": [
    "# create csv dile\n",
    "mydata = {\n",
    "    \"Name\": [\"Nayan\", \"Jignesh\", \"Rudra\", \"Om\"],\n",
    "    \"Roll_Num\": [12, 14, 15, 16],\n",
    "    \"Email\": [\"Nayan123@gmail.com\", \"Jignesh123@gmail.com\", \"Rudra123@gmail.com\", \"Om123@gmail.com\"],\n",
    "}\n",
    "\n",
    "df = pd.DataFrame(mydata)\n",
    "df\n",
    "\n",
    "# create csv file\n",
    "df.to_csv(\"csvfile.csv\")\n",
    "df.to_csv(\"withoutindexcsvfile.csv\", index=False) # By default it is true"
   ]
  },
  {
   "cell_type": "code",
   "execution_count": 5,
   "id": "aca9c5e1-a7a8-4e2e-9b5e-c5c28fa8eff0",
   "metadata": {},
   "outputs": [
    {
     "data": {
      "text/html": [
       "<div>\n",
       "<style scoped>\n",
       "    .dataframe tbody tr th:only-of-type {\n",
       "        vertical-align: middle;\n",
       "    }\n",
       "\n",
       "    .dataframe tbody tr th {\n",
       "        vertical-align: top;\n",
       "    }\n",
       "\n",
       "    .dataframe thead th {\n",
       "        text-align: right;\n",
       "    }\n",
       "</style>\n",
       "<table border=\"1\" class=\"dataframe\">\n",
       "  <thead>\n",
       "    <tr style=\"text-align: right;\">\n",
       "      <th></th>\n",
       "      <th>Unnamed: 0</th>\n",
       "      <th>Name</th>\n",
       "      <th>Roll_Num</th>\n",
       "      <th>Email</th>\n",
       "    </tr>\n",
       "  </thead>\n",
       "  <tbody>\n",
       "    <tr>\n",
       "      <th>0</th>\n",
       "      <td>0</td>\n",
       "      <td>Nayan</td>\n",
       "      <td>12</td>\n",
       "      <td>Nayan123@gmail.com</td>\n",
       "    </tr>\n",
       "    <tr>\n",
       "      <th>1</th>\n",
       "      <td>1</td>\n",
       "      <td>Jignesh</td>\n",
       "      <td>14</td>\n",
       "      <td>Jignesh123@gmail.com</td>\n",
       "    </tr>\n",
       "    <tr>\n",
       "      <th>2</th>\n",
       "      <td>2</td>\n",
       "      <td>Rudra</td>\n",
       "      <td>15</td>\n",
       "      <td>Rudra123@gmail.com</td>\n",
       "    </tr>\n",
       "    <tr>\n",
       "      <th>3</th>\n",
       "      <td>3</td>\n",
       "      <td>Om</td>\n",
       "      <td>16</td>\n",
       "      <td>Om123@gmail.com</td>\n",
       "    </tr>\n",
       "  </tbody>\n",
       "</table>\n",
       "</div>"
      ],
      "text/plain": [
       "   Unnamed: 0     Name  Roll_Num                 Email\n",
       "0           0    Nayan        12    Nayan123@gmail.com\n",
       "1           1  Jignesh        14  Jignesh123@gmail.com\n",
       "2           2    Rudra        15    Rudra123@gmail.com\n",
       "3           3       Om        16       Om123@gmail.com"
      ]
     },
     "execution_count": 5,
     "metadata": {},
     "output_type": "execute_result"
    }
   ],
   "source": [
    "# read csv file\n",
    "df = pd.read_csv(\"csvfile.csv\")\n",
    "df"
   ]
  },
  {
   "cell_type": "code",
   "execution_count": 9,
   "id": "44f7caea-3a48-486e-970f-6a44aaa9e2c3",
   "metadata": {},
   "outputs": [
    {
     "name": "stdout",
     "output_type": "stream",
     "text": [
      "   index   subjects       Date\n",
      "0      1      Maths 2023-04-12\n",
      "1      2    Physics 2023-05-18\n",
      "2      3  Chemistry 2023-05-22\n",
      "3      4      Hindi 2023-05-23\n",
      "4      5   Gujarati 2023-06-14\n"
     ]
    }
   ],
   "source": [
    "# read excel file\n",
    "import pip\n",
    "# pip.main([\"install\", \"openpyxl\"])\n",
    "df = pd.read_excel(\"excelfile.xlsx\")\n",
    "print(df)"
   ]
  },
  {
   "cell_type": "code",
   "execution_count": 12,
   "id": "c841d3aa-b437-41d9-b9f3-e9c5ef350e80",
   "metadata": {},
   "outputs": [],
   "source": [
    "# create excel file\n",
    "\n",
    "bills = {\n",
    "    \"Products\": [\"NoteBook\", \"Pen\", \"Sharpner\", \"Campasbox\"],\n",
    "    \"Price\":[40,5,5,60]\n",
    "}\n",
    "\n",
    "df = pd.DataFrame(bills)\n",
    "\n",
    "# with index (By default)\n",
    "df.to_excel(\"bills.xlsx\") "
   ]
  },
  {
   "cell_type": "code",
   "execution_count": 13,
   "id": "0bb68596-46a6-4bbe-a110-a1232c6bdf6b",
   "metadata": {},
   "outputs": [],
   "source": [
    "# without index\n",
    "df.to_excel(\"bills1.xlsx\", index=False)"
   ]
  },
  {
   "cell_type": "raw",
   "id": "943d458d-25fe-49e4-a95a-0697a5c63636",
   "metadata": {},
   "source": [
    "Data Exploration:\n",
    "df.head(): Display the first n rows of a DataFrame.\n",
    "df.tail(): Display the last n rows of a DataFrame.\n",
    "df.shape: Return the dimensions of the DataFrame (rows, columns).\n",
    "df.info(): Display information about the DataFrame, including data types and missing values.\n",
    "df.describe(): Generate summary statistics of numeric columns.\n",
    "df.columns: Access column names.\n",
    "df.dtypes: Return data types of each column.\n",
    "df.value_counts(): Count unique values in a column.\n",
    "df.isna(): Check for missing values.\n",
    "df.dropna(): Remove rows or columns with missing values."
   ]
  },
  {
   "cell_type": "code",
   "execution_count": 14,
   "id": "665fe2ea-8b2f-4fa7-9218-b4c13c8f6861",
   "metadata": {},
   "outputs": [
    {
     "data": {
      "text/html": [
       "<div>\n",
       "<style scoped>\n",
       "    .dataframe tbody tr th:only-of-type {\n",
       "        vertical-align: middle;\n",
       "    }\n",
       "\n",
       "    .dataframe tbody tr th {\n",
       "        vertical-align: top;\n",
       "    }\n",
       "\n",
       "    .dataframe thead th {\n",
       "        text-align: right;\n",
       "    }\n",
       "</style>\n",
       "<table border=\"1\" class=\"dataframe\">\n",
       "  <thead>\n",
       "    <tr style=\"text-align: right;\">\n",
       "      <th></th>\n",
       "      <th>Products</th>\n",
       "      <th>Price</th>\n",
       "    </tr>\n",
       "  </thead>\n",
       "  <tbody>\n",
       "    <tr>\n",
       "      <th>0</th>\n",
       "      <td>NoteBook</td>\n",
       "      <td>40</td>\n",
       "    </tr>\n",
       "    <tr>\n",
       "      <th>1</th>\n",
       "      <td>Pen</td>\n",
       "      <td>5</td>\n",
       "    </tr>\n",
       "  </tbody>\n",
       "</table>\n",
       "</div>"
      ],
      "text/plain": [
       "   Products  Price\n",
       "0  NoteBook     40\n",
       "1       Pen      5"
      ]
     },
     "execution_count": 14,
     "metadata": {},
     "output_type": "execute_result"
    }
   ],
   "source": [
    "# df.head(): Display the first n rows of a DataFrame.\n",
    "df.head(2)"
   ]
  },
  {
   "cell_type": "code",
   "execution_count": 15,
   "id": "fa17ebcd-a579-4079-820e-a1c2d750ad50",
   "metadata": {},
   "outputs": [
    {
     "data": {
      "text/html": [
       "<div>\n",
       "<style scoped>\n",
       "    .dataframe tbody tr th:only-of-type {\n",
       "        vertical-align: middle;\n",
       "    }\n",
       "\n",
       "    .dataframe tbody tr th {\n",
       "        vertical-align: top;\n",
       "    }\n",
       "\n",
       "    .dataframe thead th {\n",
       "        text-align: right;\n",
       "    }\n",
       "</style>\n",
       "<table border=\"1\" class=\"dataframe\">\n",
       "  <thead>\n",
       "    <tr style=\"text-align: right;\">\n",
       "      <th></th>\n",
       "      <th>Products</th>\n",
       "      <th>Price</th>\n",
       "    </tr>\n",
       "  </thead>\n",
       "  <tbody>\n",
       "    <tr>\n",
       "      <th>1</th>\n",
       "      <td>Pen</td>\n",
       "      <td>5</td>\n",
       "    </tr>\n",
       "    <tr>\n",
       "      <th>2</th>\n",
       "      <td>Sharpner</td>\n",
       "      <td>5</td>\n",
       "    </tr>\n",
       "    <tr>\n",
       "      <th>3</th>\n",
       "      <td>Campasbox</td>\n",
       "      <td>60</td>\n",
       "    </tr>\n",
       "  </tbody>\n",
       "</table>\n",
       "</div>"
      ],
      "text/plain": [
       "    Products  Price\n",
       "1        Pen      5\n",
       "2   Sharpner      5\n",
       "3  Campasbox     60"
      ]
     },
     "execution_count": 15,
     "metadata": {},
     "output_type": "execute_result"
    }
   ],
   "source": [
    "# df.tail(): Display the last n rows of a DataFrame.\n",
    "df.tail(3)"
   ]
  },
  {
   "cell_type": "code",
   "execution_count": 16,
   "id": "773d9f01-ff41-43fa-ad56-82b49e3a1de3",
   "metadata": {},
   "outputs": [
    {
     "name": "stdout",
     "output_type": "stream",
     "text": [
      "<class 'pandas.core.frame.DataFrame'>\n",
      "RangeIndex: 4 entries, 0 to 3\n",
      "Data columns (total 2 columns):\n",
      " #   Column    Non-Null Count  Dtype \n",
      "---  ------    --------------  ----- \n",
      " 0   Products  4 non-null      object\n",
      " 1   Price     4 non-null      int64 \n",
      "dtypes: int64(1), object(1)\n",
      "memory usage: 192.0+ bytes\n"
     ]
    }
   ],
   "source": [
    "# df.info(): Display information about the DataFrame, including data types and missing values.\n",
    "df.info()"
   ]
  },
  {
   "cell_type": "code",
   "execution_count": 17,
   "id": "4d0a27d4-3aef-4250-8e8c-668a403038e7",
   "metadata": {},
   "outputs": [
    {
     "data": {
      "text/html": [
       "<div>\n",
       "<style scoped>\n",
       "    .dataframe tbody tr th:only-of-type {\n",
       "        vertical-align: middle;\n",
       "    }\n",
       "\n",
       "    .dataframe tbody tr th {\n",
       "        vertical-align: top;\n",
       "    }\n",
       "\n",
       "    .dataframe thead th {\n",
       "        text-align: right;\n",
       "    }\n",
       "</style>\n",
       "<table border=\"1\" class=\"dataframe\">\n",
       "  <thead>\n",
       "    <tr style=\"text-align: right;\">\n",
       "      <th></th>\n",
       "      <th>Price</th>\n",
       "    </tr>\n",
       "  </thead>\n",
       "  <tbody>\n",
       "    <tr>\n",
       "      <th>count</th>\n",
       "      <td>4.000000</td>\n",
       "    </tr>\n",
       "    <tr>\n",
       "      <th>mean</th>\n",
       "      <td>27.500000</td>\n",
       "    </tr>\n",
       "    <tr>\n",
       "      <th>std</th>\n",
       "      <td>27.233558</td>\n",
       "    </tr>\n",
       "    <tr>\n",
       "      <th>min</th>\n",
       "      <td>5.000000</td>\n",
       "    </tr>\n",
       "    <tr>\n",
       "      <th>25%</th>\n",
       "      <td>5.000000</td>\n",
       "    </tr>\n",
       "    <tr>\n",
       "      <th>50%</th>\n",
       "      <td>22.500000</td>\n",
       "    </tr>\n",
       "    <tr>\n",
       "      <th>75%</th>\n",
       "      <td>45.000000</td>\n",
       "    </tr>\n",
       "    <tr>\n",
       "      <th>max</th>\n",
       "      <td>60.000000</td>\n",
       "    </tr>\n",
       "  </tbody>\n",
       "</table>\n",
       "</div>"
      ],
      "text/plain": [
       "           Price\n",
       "count   4.000000\n",
       "mean   27.500000\n",
       "std    27.233558\n",
       "min     5.000000\n",
       "25%     5.000000\n",
       "50%    22.500000\n",
       "75%    45.000000\n",
       "max    60.000000"
      ]
     },
     "execution_count": 17,
     "metadata": {},
     "output_type": "execute_result"
    }
   ],
   "source": [
    "# df.describe(): Generate summary statistics of numeric columns.\n",
    "df.describe()"
   ]
  },
  {
   "cell_type": "code",
   "execution_count": 32,
   "id": "ba71e2ef-0e4f-491f-a9d6-e3752c04a146",
   "metadata": {},
   "outputs": [
    {
     "data": {
      "text/plain": [
       "Index(['Products', 'Price'], dtype='object')"
      ]
     },
     "execution_count": 32,
     "metadata": {},
     "output_type": "execute_result"
    }
   ],
   "source": [
    "# df.columns: Access column names.\n",
    "# df.columns([\"Price\"]) # TypeError: 'Index' object is not callable\n",
    "\n",
    "df = pd.read_excel(\"bills1.xlsx\")\n",
    "df.columns"
   ]
  },
  {
   "cell_type": "code",
   "execution_count": 52,
   "id": "3104822d-743a-4406-b5a5-b28f92f95c9d",
   "metadata": {},
   "outputs": [
    {
     "data": {
      "text/plain": [
       "subjects    object\n",
       "marks        int64\n",
       "dtype: object"
      ]
     },
     "execution_count": 52,
     "metadata": {},
     "output_type": "execute_result"
    }
   ],
   "source": [
    "# df.dtypes: Return data types of each column.\n",
    "d = {\n",
    "    \"subjects\" : [\"Gujarati\", \"Maths\", \"Hindi\", \"Science\", \"Maths\"],\n",
    "    \"marks\" : [78, 99, 87, 99, 99]\n",
    "}\n",
    "\n",
    "df = pd.DataFrame(d)\n",
    "df.dtypes"
   ]
  },
  {
   "cell_type": "code",
   "execution_count": 51,
   "id": "6a166306-be12-4025-b199-7d8ceb221e7f",
   "metadata": {},
   "outputs": [
    {
     "data": {
      "text/plain": [
       "subjects  marks\n",
       "Maths     99       2\n",
       "Gujarati  78       1\n",
       "Hindi     87       1\n",
       "Science   99       1\n",
       "Name: count, dtype: int64"
      ]
     },
     "execution_count": 51,
     "metadata": {},
     "output_type": "execute_result"
    }
   ],
   "source": [
    "# df.value_counts(): Count unique values in a column.\n",
    "\n",
    "df.value_counts()"
   ]
  },
  {
   "cell_type": "code",
   "execution_count": 55,
   "id": "7979efba-77b1-461d-94a4-156c719f4804",
   "metadata": {},
   "outputs": [
    {
     "data": {
      "text/html": [
       "<div>\n",
       "<style scoped>\n",
       "    .dataframe tbody tr th:only-of-type {\n",
       "        vertical-align: middle;\n",
       "    }\n",
       "\n",
       "    .dataframe tbody tr th {\n",
       "        vertical-align: top;\n",
       "    }\n",
       "\n",
       "    .dataframe thead th {\n",
       "        text-align: right;\n",
       "    }\n",
       "</style>\n",
       "<table border=\"1\" class=\"dataframe\">\n",
       "  <thead>\n",
       "    <tr style=\"text-align: right;\">\n",
       "      <th></th>\n",
       "      <th>city</th>\n",
       "      <th>distancefromcapital</th>\n",
       "    </tr>\n",
       "  </thead>\n",
       "  <tbody>\n",
       "    <tr>\n",
       "      <th>0</th>\n",
       "      <td>False</td>\n",
       "      <td>False</td>\n",
       "    </tr>\n",
       "    <tr>\n",
       "      <th>1</th>\n",
       "      <td>False</td>\n",
       "      <td>True</td>\n",
       "    </tr>\n",
       "    <tr>\n",
       "      <th>2</th>\n",
       "      <td>False</td>\n",
       "      <td>True</td>\n",
       "    </tr>\n",
       "    <tr>\n",
       "      <th>3</th>\n",
       "      <td>False</td>\n",
       "      <td>False</td>\n",
       "    </tr>\n",
       "    <tr>\n",
       "      <th>4</th>\n",
       "      <td>True</td>\n",
       "      <td>False</td>\n",
       "    </tr>\n",
       "    <tr>\n",
       "      <th>5</th>\n",
       "      <td>False</td>\n",
       "      <td>False</td>\n",
       "    </tr>\n",
       "  </tbody>\n",
       "</table>\n",
       "</div>"
      ],
      "text/plain": [
       "    city  distancefromcapital\n",
       "0  False                False\n",
       "1  False                 True\n",
       "2  False                 True\n",
       "3  False                False\n",
       "4   True                False\n",
       "5  False                False"
      ]
     },
     "execution_count": 55,
     "metadata": {},
     "output_type": "execute_result"
    }
   ],
   "source": [
    "# df.isna(): Check for missing values.\n",
    "\n",
    "\n",
    "df = pd.read_csv(\"cd.csv\")\n",
    "\n",
    "df.isna()"
   ]
  },
  {
   "cell_type": "code",
   "execution_count": 57,
   "id": "74f59a5e-6cc5-44a5-b8ac-5600e5573e98",
   "metadata": {},
   "outputs": [
    {
     "data": {
      "text/html": [
       "<div>\n",
       "<style scoped>\n",
       "    .dataframe tbody tr th:only-of-type {\n",
       "        vertical-align: middle;\n",
       "    }\n",
       "\n",
       "    .dataframe tbody tr th {\n",
       "        vertical-align: top;\n",
       "    }\n",
       "\n",
       "    .dataframe thead th {\n",
       "        text-align: right;\n",
       "    }\n",
       "</style>\n",
       "<table border=\"1\" class=\"dataframe\">\n",
       "  <thead>\n",
       "    <tr style=\"text-align: right;\">\n",
       "      <th></th>\n",
       "      <th>city</th>\n",
       "      <th>distancefromcapital</th>\n",
       "    </tr>\n",
       "  </thead>\n",
       "  <tbody>\n",
       "    <tr>\n",
       "      <th>0</th>\n",
       "      <td>Anjar</td>\n",
       "      <td>33.0</td>\n",
       "    </tr>\n",
       "    <tr>\n",
       "      <th>3</th>\n",
       "      <td>Bhuj</td>\n",
       "      <td>56.0</td>\n",
       "    </tr>\n",
       "    <tr>\n",
       "      <th>5</th>\n",
       "      <td>Gandhidham</td>\n",
       "      <td>6.0</td>\n",
       "    </tr>\n",
       "  </tbody>\n",
       "</table>\n",
       "</div>"
      ],
      "text/plain": [
       "         city  distancefromcapital\n",
       "0       Anjar                 33.0\n",
       "3        Bhuj                 56.0\n",
       "5  Gandhidham                  6.0"
      ]
     },
     "execution_count": 57,
     "metadata": {},
     "output_type": "execute_result"
    }
   ],
   "source": [
    "# df.dropna(): Remove rows or columns with missing values.\n",
    "df.dropna()"
   ]
  },
  {
   "cell_type": "raw",
   "id": "37097006-1dbf-4577-8c11-2b65e810c5a1",
   "metadata": {},
   "source": [
    "Data Selection and Indexing:\n",
    "df.iloc[]: Select data by integer-based indexing.\n",
    "df.loc[]: Select data by label-based indexing.\n",
    "df[column_name] or df.column_name: Select a single column.\n",
    "df[['col1', 'col2']]: Select multiple columns.\n",
    "df.iloc[:, start_col:end_col]: Select a range of columns.\n",
    "df[df['column'] > value]: Filter rows based on a condition.\n",
    "df.sort_values(): Sort the DataFrame by column(s)."
   ]
  },
  {
   "cell_type": "code",
   "execution_count": 58,
   "id": "293bdd96-fcb1-4f90-aeb4-3b044447c5b0",
   "metadata": {},
   "outputs": [
    {
     "data": {
      "text/plain": [
       "city                   Anjar\n",
       "distancefromcapital     33.0\n",
       "Name: 0, dtype: object"
      ]
     },
     "execution_count": 58,
     "metadata": {},
     "output_type": "execute_result"
    }
   ],
   "source": [
    "# df.iloc[]: Select data by integer-based indexing.\n",
    "df.iloc[0]"
   ]
  },
  {
   "cell_type": "code",
   "execution_count": 61,
   "id": "5e99acb0-a827-4e4e-a230-93acdc1afb54",
   "metadata": {},
   "outputs": [
    {
     "data": {
      "text/html": [
       "<div>\n",
       "<style scoped>\n",
       "    .dataframe tbody tr th:only-of-type {\n",
       "        vertical-align: middle;\n",
       "    }\n",
       "\n",
       "    .dataframe tbody tr th {\n",
       "        vertical-align: top;\n",
       "    }\n",
       "\n",
       "    .dataframe thead th {\n",
       "        text-align: right;\n",
       "    }\n",
       "</style>\n",
       "<table border=\"1\" class=\"dataframe\">\n",
       "  <thead>\n",
       "    <tr style=\"text-align: right;\">\n",
       "      <th></th>\n",
       "      <th>city</th>\n",
       "      <th>distancefromcapital</th>\n",
       "    </tr>\n",
       "  </thead>\n",
       "  <tbody>\n",
       "    <tr>\n",
       "      <th>0</th>\n",
       "      <td>Anjar</td>\n",
       "      <td>33.0</td>\n",
       "    </tr>\n",
       "    <tr>\n",
       "      <th>2</th>\n",
       "      <td>Bhachayu</td>\n",
       "      <td>NaN</td>\n",
       "    </tr>\n",
       "  </tbody>\n",
       "</table>\n",
       "</div>"
      ],
      "text/plain": [
       "       city  distancefromcapital\n",
       "0     Anjar                 33.0\n",
       "2  Bhachayu                  NaN"
      ]
     },
     "execution_count": 61,
     "metadata": {},
     "output_type": "execute_result"
    }
   ],
   "source": [
    "df.iloc[[0,2]]"
   ]
  },
  {
   "cell_type": "code",
   "execution_count": 62,
   "id": "632c9eed-4d19-4888-bf9a-7993d694e765",
   "metadata": {},
   "outputs": [
    {
     "data": {
      "text/html": [
       "<div>\n",
       "<style scoped>\n",
       "    .dataframe tbody tr th:only-of-type {\n",
       "        vertical-align: middle;\n",
       "    }\n",
       "\n",
       "    .dataframe tbody tr th {\n",
       "        vertical-align: top;\n",
       "    }\n",
       "\n",
       "    .dataframe thead th {\n",
       "        text-align: right;\n",
       "    }\n",
       "</style>\n",
       "<table border=\"1\" class=\"dataframe\">\n",
       "  <thead>\n",
       "    <tr style=\"text-align: right;\">\n",
       "      <th></th>\n",
       "      <th>city</th>\n",
       "      <th>distancefromcapital</th>\n",
       "    </tr>\n",
       "  </thead>\n",
       "  <tbody>\n",
       "    <tr>\n",
       "      <th>1</th>\n",
       "      <td>Adipur21</td>\n",
       "      <td>NaN</td>\n",
       "    </tr>\n",
       "    <tr>\n",
       "      <th>2</th>\n",
       "      <td>Bhachayu</td>\n",
       "      <td>NaN</td>\n",
       "    </tr>\n",
       "    <tr>\n",
       "      <th>0</th>\n",
       "      <td>Anjar</td>\n",
       "      <td>33.0</td>\n",
       "    </tr>\n",
       "  </tbody>\n",
       "</table>\n",
       "</div>"
      ],
      "text/plain": [
       "       city  distancefromcapital\n",
       "1  Adipur21                  NaN\n",
       "2  Bhachayu                  NaN\n",
       "0     Anjar                 33.0"
      ]
     },
     "execution_count": 62,
     "metadata": {},
     "output_type": "execute_result"
    }
   ],
   "source": [
    "df.iloc[[1,2,0]]"
   ]
  },
  {
   "cell_type": "code",
   "execution_count": 65,
   "id": "9260dcaf-85ae-4271-b14f-0314701af704",
   "metadata": {},
   "outputs": [
    {
     "data": {
      "text/plain": [
       "city                   Anjar\n",
       "distancefromcapital     33.0\n",
       "Name: c1, dtype: object"
      ]
     },
     "execution_count": 65,
     "metadata": {},
     "output_type": "execute_result"
    }
   ],
   "source": [
    "# df.loc[]: Select data by label-based indexing.\n",
    "df.index = ['c1', 'c2', 'c3', 'c4', 'c5', 'c6']\n",
    "df.loc['c1']"
   ]
  },
  {
   "cell_type": "code",
   "execution_count": 68,
   "id": "5eac833c-e130-4981-bffd-7d89793bab2a",
   "metadata": {},
   "outputs": [
    {
     "data": {
      "text/html": [
       "<div>\n",
       "<style scoped>\n",
       "    .dataframe tbody tr th:only-of-type {\n",
       "        vertical-align: middle;\n",
       "    }\n",
       "\n",
       "    .dataframe tbody tr th {\n",
       "        vertical-align: top;\n",
       "    }\n",
       "\n",
       "    .dataframe thead th {\n",
       "        text-align: right;\n",
       "    }\n",
       "</style>\n",
       "<table border=\"1\" class=\"dataframe\">\n",
       "  <thead>\n",
       "    <tr style=\"text-align: right;\">\n",
       "      <th></th>\n",
       "      <th>city</th>\n",
       "      <th>distancefromcapital</th>\n",
       "    </tr>\n",
       "  </thead>\n",
       "  <tbody>\n",
       "    <tr>\n",
       "      <th>c1</th>\n",
       "      <td>Anjar</td>\n",
       "      <td>33.0</td>\n",
       "    </tr>\n",
       "    <tr>\n",
       "      <th>c3</th>\n",
       "      <td>Bhachayu</td>\n",
       "      <td>NaN</td>\n",
       "    </tr>\n",
       "  </tbody>\n",
       "</table>\n",
       "</div>"
      ],
      "text/plain": [
       "        city  distancefromcapital\n",
       "c1     Anjar                 33.0\n",
       "c3  Bhachayu                  NaN"
      ]
     },
     "execution_count": 68,
     "metadata": {},
     "output_type": "execute_result"
    }
   ],
   "source": [
    "df.loc[[\"c1\", \"c3\"]]"
   ]
  },
  {
   "cell_type": "code",
   "execution_count": 70,
   "id": "28fddb27-1833-4621-bd9b-abf986c2a6d3",
   "metadata": {},
   "outputs": [
    {
     "data": {
      "text/html": [
       "<div>\n",
       "<style scoped>\n",
       "    .dataframe tbody tr th:only-of-type {\n",
       "        vertical-align: middle;\n",
       "    }\n",
       "\n",
       "    .dataframe tbody tr th {\n",
       "        vertical-align: top;\n",
       "    }\n",
       "\n",
       "    .dataframe thead th {\n",
       "        text-align: right;\n",
       "    }\n",
       "</style>\n",
       "<table border=\"1\" class=\"dataframe\">\n",
       "  <thead>\n",
       "    <tr style=\"text-align: right;\">\n",
       "      <th></th>\n",
       "      <th>city</th>\n",
       "      <th>distancefromcapital</th>\n",
       "    </tr>\n",
       "  </thead>\n",
       "  <tbody>\n",
       "    <tr>\n",
       "      <th>c6</th>\n",
       "      <td>Gandhidham</td>\n",
       "      <td>6.0</td>\n",
       "    </tr>\n",
       "    <tr>\n",
       "      <th>c5</th>\n",
       "      <td>NaN</td>\n",
       "      <td>44.0</td>\n",
       "    </tr>\n",
       "  </tbody>\n",
       "</table>\n",
       "</div>"
      ],
      "text/plain": [
       "          city  distancefromcapital\n",
       "c6  Gandhidham                  6.0\n",
       "c5         NaN                 44.0"
      ]
     },
     "execution_count": 70,
     "metadata": {},
     "output_type": "execute_result"
    }
   ],
   "source": [
    "df.loc[[\"c6\", \"c5\"]]"
   ]
  },
  {
   "cell_type": "code",
   "execution_count": 71,
   "id": "ad45abdc-8f84-4d80-87dc-5b7fb0115666",
   "metadata": {},
   "outputs": [
    {
     "data": {
      "text/plain": [
       "c1         Anjar\n",
       "c2      Adipur21\n",
       "c3      Bhachayu\n",
       "c4          Bhuj\n",
       "c5           NaN\n",
       "c6    Gandhidham\n",
       "Name: city, dtype: object"
      ]
     },
     "execution_count": 71,
     "metadata": {},
     "output_type": "execute_result"
    }
   ],
   "source": [
    "# df[column_name] or df.column_name: Select a single column.\n",
    "df['city']"
   ]
  },
  {
   "cell_type": "code",
   "execution_count": 72,
   "id": "0c36d08e-7ac6-4c4e-8be4-bd91dce02698",
   "metadata": {},
   "outputs": [
    {
     "data": {
      "text/plain": [
       "c1         Anjar\n",
       "c2      Adipur21\n",
       "c3      Bhachayu\n",
       "c4          Bhuj\n",
       "c5           NaN\n",
       "c6    Gandhidham\n",
       "Name: city, dtype: object"
      ]
     },
     "execution_count": 72,
     "metadata": {},
     "output_type": "execute_result"
    }
   ],
   "source": [
    "df.city"
   ]
  },
  {
   "cell_type": "code",
   "execution_count": 73,
   "id": "878cf7c2-14cb-4ff3-a1ea-469790f0c65f",
   "metadata": {},
   "outputs": [
    {
     "data": {
      "text/html": [
       "<div>\n",
       "<style scoped>\n",
       "    .dataframe tbody tr th:only-of-type {\n",
       "        vertical-align: middle;\n",
       "    }\n",
       "\n",
       "    .dataframe tbody tr th {\n",
       "        vertical-align: top;\n",
       "    }\n",
       "\n",
       "    .dataframe thead th {\n",
       "        text-align: right;\n",
       "    }\n",
       "</style>\n",
       "<table border=\"1\" class=\"dataframe\">\n",
       "  <thead>\n",
       "    <tr style=\"text-align: right;\">\n",
       "      <th></th>\n",
       "      <th>city</th>\n",
       "      <th>distancefromcapital</th>\n",
       "    </tr>\n",
       "  </thead>\n",
       "  <tbody>\n",
       "    <tr>\n",
       "      <th>c1</th>\n",
       "      <td>Anjar</td>\n",
       "      <td>33.0</td>\n",
       "    </tr>\n",
       "    <tr>\n",
       "      <th>c2</th>\n",
       "      <td>Adipur21</td>\n",
       "      <td>NaN</td>\n",
       "    </tr>\n",
       "    <tr>\n",
       "      <th>c3</th>\n",
       "      <td>Bhachayu</td>\n",
       "      <td>NaN</td>\n",
       "    </tr>\n",
       "    <tr>\n",
       "      <th>c4</th>\n",
       "      <td>Bhuj</td>\n",
       "      <td>56.0</td>\n",
       "    </tr>\n",
       "    <tr>\n",
       "      <th>c5</th>\n",
       "      <td>NaN</td>\n",
       "      <td>44.0</td>\n",
       "    </tr>\n",
       "    <tr>\n",
       "      <th>c6</th>\n",
       "      <td>Gandhidham</td>\n",
       "      <td>6.0</td>\n",
       "    </tr>\n",
       "  </tbody>\n",
       "</table>\n",
       "</div>"
      ],
      "text/plain": [
       "          city  distancefromcapital\n",
       "c1       Anjar                 33.0\n",
       "c2    Adipur21                  NaN\n",
       "c3    Bhachayu                  NaN\n",
       "c4        Bhuj                 56.0\n",
       "c5         NaN                 44.0\n",
       "c6  Gandhidham                  6.0"
      ]
     },
     "execution_count": 73,
     "metadata": {},
     "output_type": "execute_result"
    }
   ],
   "source": [
    "# df[['col1', 'col2']]: Select multiple columns.\n",
    "\n",
    "df[[\"city\", \"distancefromcapital\"]]"
   ]
  },
  {
   "cell_type": "code",
   "execution_count": 74,
   "id": "58b8a227-6f74-4781-9ef3-350ee284ca68",
   "metadata": {},
   "outputs": [
    {
     "data": {
      "text/html": [
       "<div>\n",
       "<style scoped>\n",
       "    .dataframe tbody tr th:only-of-type {\n",
       "        vertical-align: middle;\n",
       "    }\n",
       "\n",
       "    .dataframe tbody tr th {\n",
       "        vertical-align: top;\n",
       "    }\n",
       "\n",
       "    .dataframe thead th {\n",
       "        text-align: right;\n",
       "    }\n",
       "</style>\n",
       "<table border=\"1\" class=\"dataframe\">\n",
       "  <thead>\n",
       "    <tr style=\"text-align: right;\">\n",
       "      <th></th>\n",
       "      <th>distancefromcapital</th>\n",
       "      <th>city</th>\n",
       "    </tr>\n",
       "  </thead>\n",
       "  <tbody>\n",
       "    <tr>\n",
       "      <th>c1</th>\n",
       "      <td>33.0</td>\n",
       "      <td>Anjar</td>\n",
       "    </tr>\n",
       "    <tr>\n",
       "      <th>c2</th>\n",
       "      <td>NaN</td>\n",
       "      <td>Adipur21</td>\n",
       "    </tr>\n",
       "    <tr>\n",
       "      <th>c3</th>\n",
       "      <td>NaN</td>\n",
       "      <td>Bhachayu</td>\n",
       "    </tr>\n",
       "    <tr>\n",
       "      <th>c4</th>\n",
       "      <td>56.0</td>\n",
       "      <td>Bhuj</td>\n",
       "    </tr>\n",
       "    <tr>\n",
       "      <th>c5</th>\n",
       "      <td>44.0</td>\n",
       "      <td>NaN</td>\n",
       "    </tr>\n",
       "    <tr>\n",
       "      <th>c6</th>\n",
       "      <td>6.0</td>\n",
       "      <td>Gandhidham</td>\n",
       "    </tr>\n",
       "  </tbody>\n",
       "</table>\n",
       "</div>"
      ],
      "text/plain": [
       "    distancefromcapital        city\n",
       "c1                 33.0       Anjar\n",
       "c2                  NaN    Adipur21\n",
       "c3                  NaN    Bhachayu\n",
       "c4                 56.0        Bhuj\n",
       "c5                 44.0         NaN\n",
       "c6                  6.0  Gandhidham"
      ]
     },
     "execution_count": 74,
     "metadata": {},
     "output_type": "execute_result"
    }
   ],
   "source": [
    "df[[\"distancefromcapital\", \"city\"]]"
   ]
  },
  {
   "cell_type": "code",
   "execution_count": 82,
   "id": "56d86515-7476-4dd9-a73f-d1ac505dee6d",
   "metadata": {},
   "outputs": [
    {
     "data": {
      "text/html": [
       "<div>\n",
       "<style scoped>\n",
       "    .dataframe tbody tr th:only-of-type {\n",
       "        vertical-align: middle;\n",
       "    }\n",
       "\n",
       "    .dataframe tbody tr th {\n",
       "        vertical-align: top;\n",
       "    }\n",
       "\n",
       "    .dataframe thead th {\n",
       "        text-align: right;\n",
       "    }\n",
       "</style>\n",
       "<table border=\"1\" class=\"dataframe\">\n",
       "  <thead>\n",
       "    <tr style=\"text-align: right;\">\n",
       "      <th></th>\n",
       "      <th>city</th>\n",
       "    </tr>\n",
       "  </thead>\n",
       "  <tbody>\n",
       "    <tr>\n",
       "      <th>c1</th>\n",
       "      <td>Anjar</td>\n",
       "    </tr>\n",
       "    <tr>\n",
       "      <th>c2</th>\n",
       "      <td>Adipur21</td>\n",
       "    </tr>\n",
       "    <tr>\n",
       "      <th>c3</th>\n",
       "      <td>Bhachayu</td>\n",
       "    </tr>\n",
       "    <tr>\n",
       "      <th>c4</th>\n",
       "      <td>Bhuj</td>\n",
       "    </tr>\n",
       "    <tr>\n",
       "      <th>c5</th>\n",
       "      <td>NaN</td>\n",
       "    </tr>\n",
       "    <tr>\n",
       "      <th>c6</th>\n",
       "      <td>Gandhidham</td>\n",
       "    </tr>\n",
       "  </tbody>\n",
       "</table>\n",
       "</div>"
      ],
      "text/plain": [
       "          city\n",
       "c1       Anjar\n",
       "c2    Adipur21\n",
       "c3    Bhachayu\n",
       "c4        Bhuj\n",
       "c5         NaN\n",
       "c6  Gandhidham"
      ]
     },
     "execution_count": 82,
     "metadata": {},
     "output_type": "execute_result"
    }
   ],
   "source": [
    "# df.iloc[:, start_col:end_col]: Select a range of columns.\n",
    "df.iloc[:, 0:1]"
   ]
  },
  {
   "cell_type": "code",
   "execution_count": 83,
   "id": "966e9a61-b383-467b-bf73-1ef398e6432a",
   "metadata": {},
   "outputs": [
    {
     "data": {
      "text/html": [
       "<div>\n",
       "<style scoped>\n",
       "    .dataframe tbody tr th:only-of-type {\n",
       "        vertical-align: middle;\n",
       "    }\n",
       "\n",
       "    .dataframe tbody tr th {\n",
       "        vertical-align: top;\n",
       "    }\n",
       "\n",
       "    .dataframe thead th {\n",
       "        text-align: right;\n",
       "    }\n",
       "</style>\n",
       "<table border=\"1\" class=\"dataframe\">\n",
       "  <thead>\n",
       "    <tr style=\"text-align: right;\">\n",
       "      <th></th>\n",
       "      <th>city</th>\n",
       "      <th>distancefromcapital</th>\n",
       "    </tr>\n",
       "  </thead>\n",
       "  <tbody>\n",
       "    <tr>\n",
       "      <th>c1</th>\n",
       "      <td>Anjar</td>\n",
       "      <td>33.0</td>\n",
       "    </tr>\n",
       "    <tr>\n",
       "      <th>c2</th>\n",
       "      <td>Adipur21</td>\n",
       "      <td>NaN</td>\n",
       "    </tr>\n",
       "    <tr>\n",
       "      <th>c3</th>\n",
       "      <td>Bhachayu</td>\n",
       "      <td>NaN</td>\n",
       "    </tr>\n",
       "    <tr>\n",
       "      <th>c4</th>\n",
       "      <td>Bhuj</td>\n",
       "      <td>56.0</td>\n",
       "    </tr>\n",
       "    <tr>\n",
       "      <th>c5</th>\n",
       "      <td>NaN</td>\n",
       "      <td>44.0</td>\n",
       "    </tr>\n",
       "    <tr>\n",
       "      <th>c6</th>\n",
       "      <td>Gandhidham</td>\n",
       "      <td>6.0</td>\n",
       "    </tr>\n",
       "  </tbody>\n",
       "</table>\n",
       "</div>"
      ],
      "text/plain": [
       "          city  distancefromcapital\n",
       "c1       Anjar                 33.0\n",
       "c2    Adipur21                  NaN\n",
       "c3    Bhachayu                  NaN\n",
       "c4        Bhuj                 56.0\n",
       "c5         NaN                 44.0\n",
       "c6  Gandhidham                  6.0"
      ]
     },
     "execution_count": 83,
     "metadata": {},
     "output_type": "execute_result"
    }
   ],
   "source": [
    "df.loc[:, \"city\":\"distancefromcapital\"]"
   ]
  },
  {
   "cell_type": "code",
   "execution_count": 84,
   "id": "c942ba96-6832-4785-ad4f-b05faeaa15a7",
   "metadata": {},
   "outputs": [
    {
     "data": {
      "text/html": [
       "<div>\n",
       "<style scoped>\n",
       "    .dataframe tbody tr th:only-of-type {\n",
       "        vertical-align: middle;\n",
       "    }\n",
       "\n",
       "    .dataframe tbody tr th {\n",
       "        vertical-align: top;\n",
       "    }\n",
       "\n",
       "    .dataframe thead th {\n",
       "        text-align: right;\n",
       "    }\n",
       "</style>\n",
       "<table border=\"1\" class=\"dataframe\">\n",
       "  <thead>\n",
       "    <tr style=\"text-align: right;\">\n",
       "      <th></th>\n",
       "      <th>city</th>\n",
       "      <th>distancefromcapital</th>\n",
       "    </tr>\n",
       "  </thead>\n",
       "  <tbody>\n",
       "    <tr>\n",
       "      <th>c4</th>\n",
       "      <td>Bhuj</td>\n",
       "      <td>56.0</td>\n",
       "    </tr>\n",
       "    <tr>\n",
       "      <th>c5</th>\n",
       "      <td>NaN</td>\n",
       "      <td>44.0</td>\n",
       "    </tr>\n",
       "  </tbody>\n",
       "</table>\n",
       "</div>"
      ],
      "text/plain": [
       "    city  distancefromcapital\n",
       "c4  Bhuj                 56.0\n",
       "c5   NaN                 44.0"
      ]
     },
     "execution_count": 84,
     "metadata": {},
     "output_type": "execute_result"
    }
   ],
   "source": [
    "# df[df['column'] > value]: Filter rows based on a condition.\n",
    "df[df[\"distancefromcapital\"]>40]"
   ]
  },
  {
   "cell_type": "code",
   "execution_count": 85,
   "id": "c6f77c7e-0a34-471f-a555-ea15795c4aaa",
   "metadata": {},
   "outputs": [
    {
     "data": {
      "text/html": [
       "<div>\n",
       "<style scoped>\n",
       "    .dataframe tbody tr th:only-of-type {\n",
       "        vertical-align: middle;\n",
       "    }\n",
       "\n",
       "    .dataframe tbody tr th {\n",
       "        vertical-align: top;\n",
       "    }\n",
       "\n",
       "    .dataframe thead th {\n",
       "        text-align: right;\n",
       "    }\n",
       "</style>\n",
       "<table border=\"1\" class=\"dataframe\">\n",
       "  <thead>\n",
       "    <tr style=\"text-align: right;\">\n",
       "      <th></th>\n",
       "      <th>city</th>\n",
       "      <th>distancefromcapital</th>\n",
       "    </tr>\n",
       "  </thead>\n",
       "  <tbody>\n",
       "    <tr>\n",
       "      <th>c1</th>\n",
       "      <td>Anjar</td>\n",
       "      <td>33.0</td>\n",
       "    </tr>\n",
       "    <tr>\n",
       "      <th>c5</th>\n",
       "      <td>NaN</td>\n",
       "      <td>44.0</td>\n",
       "    </tr>\n",
       "    <tr>\n",
       "      <th>c6</th>\n",
       "      <td>Gandhidham</td>\n",
       "      <td>6.0</td>\n",
       "    </tr>\n",
       "  </tbody>\n",
       "</table>\n",
       "</div>"
      ],
      "text/plain": [
       "          city  distancefromcapital\n",
       "c1       Anjar                 33.0\n",
       "c5         NaN                 44.0\n",
       "c6  Gandhidham                  6.0"
      ]
     },
     "execution_count": 85,
     "metadata": {},
     "output_type": "execute_result"
    }
   ],
   "source": [
    "df[df[\"distancefromcapital\"]<50]"
   ]
  },
  {
   "cell_type": "code",
   "execution_count": 87,
   "id": "dc64dff9-9180-41bc-a56f-cb07f7cca135",
   "metadata": {},
   "outputs": [
    {
     "data": {
      "text/html": [
       "<div>\n",
       "<style scoped>\n",
       "    .dataframe tbody tr th:only-of-type {\n",
       "        vertical-align: middle;\n",
       "    }\n",
       "\n",
       "    .dataframe tbody tr th {\n",
       "        vertical-align: top;\n",
       "    }\n",
       "\n",
       "    .dataframe thead th {\n",
       "        text-align: right;\n",
       "    }\n",
       "</style>\n",
       "<table border=\"1\" class=\"dataframe\">\n",
       "  <thead>\n",
       "    <tr style=\"text-align: right;\">\n",
       "      <th></th>\n",
       "      <th>city</th>\n",
       "      <th>distancefromcapital</th>\n",
       "    </tr>\n",
       "  </thead>\n",
       "  <tbody>\n",
       "    <tr>\n",
       "      <th>c6</th>\n",
       "      <td>Gandhidham</td>\n",
       "      <td>6.0</td>\n",
       "    </tr>\n",
       "    <tr>\n",
       "      <th>c1</th>\n",
       "      <td>Anjar</td>\n",
       "      <td>33.0</td>\n",
       "    </tr>\n",
       "    <tr>\n",
       "      <th>c5</th>\n",
       "      <td>NaN</td>\n",
       "      <td>44.0</td>\n",
       "    </tr>\n",
       "    <tr>\n",
       "      <th>c4</th>\n",
       "      <td>Bhuj</td>\n",
       "      <td>56.0</td>\n",
       "    </tr>\n",
       "    <tr>\n",
       "      <th>c2</th>\n",
       "      <td>Adipur21</td>\n",
       "      <td>NaN</td>\n",
       "    </tr>\n",
       "    <tr>\n",
       "      <th>c3</th>\n",
       "      <td>Bhachayu</td>\n",
       "      <td>NaN</td>\n",
       "    </tr>\n",
       "  </tbody>\n",
       "</table>\n",
       "</div>"
      ],
      "text/plain": [
       "          city  distancefromcapital\n",
       "c6  Gandhidham                  6.0\n",
       "c1       Anjar                 33.0\n",
       "c5         NaN                 44.0\n",
       "c4        Bhuj                 56.0\n",
       "c2    Adipur21                  NaN\n",
       "c3    Bhachayu                  NaN"
      ]
     },
     "execution_count": 87,
     "metadata": {},
     "output_type": "execute_result"
    }
   ],
   "source": [
    "# df.sort_values(): Sort the DataFrame by column(s).\n",
    "\n",
    "df.sort_values(\"distancefromcapital\")"
   ]
  },
  {
   "cell_type": "code",
   "execution_count": 88,
   "id": "59a1abed-1290-47fb-94e1-ba10c3572757",
   "metadata": {},
   "outputs": [
    {
     "data": {
      "text/html": [
       "<div>\n",
       "<style scoped>\n",
       "    .dataframe tbody tr th:only-of-type {\n",
       "        vertical-align: middle;\n",
       "    }\n",
       "\n",
       "    .dataframe tbody tr th {\n",
       "        vertical-align: top;\n",
       "    }\n",
       "\n",
       "    .dataframe thead th {\n",
       "        text-align: right;\n",
       "    }\n",
       "</style>\n",
       "<table border=\"1\" class=\"dataframe\">\n",
       "  <thead>\n",
       "    <tr style=\"text-align: right;\">\n",
       "      <th></th>\n",
       "      <th>city</th>\n",
       "      <th>distancefromcapital</th>\n",
       "    </tr>\n",
       "  </thead>\n",
       "  <tbody>\n",
       "    <tr>\n",
       "      <th>c2</th>\n",
       "      <td>Adipur21</td>\n",
       "      <td>NaN</td>\n",
       "    </tr>\n",
       "    <tr>\n",
       "      <th>c1</th>\n",
       "      <td>Anjar</td>\n",
       "      <td>33.0</td>\n",
       "    </tr>\n",
       "    <tr>\n",
       "      <th>c3</th>\n",
       "      <td>Bhachayu</td>\n",
       "      <td>NaN</td>\n",
       "    </tr>\n",
       "    <tr>\n",
       "      <th>c4</th>\n",
       "      <td>Bhuj</td>\n",
       "      <td>56.0</td>\n",
       "    </tr>\n",
       "    <tr>\n",
       "      <th>c6</th>\n",
       "      <td>Gandhidham</td>\n",
       "      <td>6.0</td>\n",
       "    </tr>\n",
       "    <tr>\n",
       "      <th>c5</th>\n",
       "      <td>NaN</td>\n",
       "      <td>44.0</td>\n",
       "    </tr>\n",
       "  </tbody>\n",
       "</table>\n",
       "</div>"
      ],
      "text/plain": [
       "          city  distancefromcapital\n",
       "c2    Adipur21                  NaN\n",
       "c1       Anjar                 33.0\n",
       "c3    Bhachayu                  NaN\n",
       "c4        Bhuj                 56.0\n",
       "c6  Gandhidham                  6.0\n",
       "c5         NaN                 44.0"
      ]
     },
     "execution_count": 88,
     "metadata": {},
     "output_type": "execute_result"
    }
   ],
   "source": [
    "df.sort_values(\"city\")"
   ]
  },
  {
   "cell_type": "markdown",
   "id": "fccb91db-772c-4870-8a61-8dbcb36387e7",
   "metadata": {},
   "source": [
    "Data Cleaning and Transformation:\n",
    "df.rename(): Rename columns.\n",
    "df.drop(): Drop specified labels from rows or columns.\n",
    "df.fillna(): Fill missing values.\n",
    "df.replace(): Replace values.\n",
    "df.groupby(): Group data by one or more columns.\n",
    "df.pivot_table(): Create a pivot table.\n",
    "df.melt(): Unpivot/melt the DataFrame.\n",
    "df.apply(): Apply a function to each element or row/column.\n",
    "df.merge(): Merge two DataFrames.\n",
    "df.join(): Join DataFrames based on their indexes."
   ]
  },
  {
   "cell_type": "code",
   "execution_count": 100,
   "id": "d801c927-3c11-49c4-90d2-f3472055e145",
   "metadata": {},
   "outputs": [
    {
     "data": {
      "text/html": [
       "<div>\n",
       "<style scoped>\n",
       "    .dataframe tbody tr th:only-of-type {\n",
       "        vertical-align: middle;\n",
       "    }\n",
       "\n",
       "    .dataframe tbody tr th {\n",
       "        vertical-align: top;\n",
       "    }\n",
       "\n",
       "    .dataframe thead th {\n",
       "        text-align: right;\n",
       "    }\n",
       "</style>\n",
       "<table border=\"1\" class=\"dataframe\">\n",
       "  <thead>\n",
       "    <tr style=\"text-align: right;\">\n",
       "      <th></th>\n",
       "      <th>City_</th>\n",
       "      <th>distancefromcapital</th>\n",
       "    </tr>\n",
       "  </thead>\n",
       "  <tbody>\n",
       "    <tr>\n",
       "      <th>c1</th>\n",
       "      <td>Anjar</td>\n",
       "      <td>33.0</td>\n",
       "    </tr>\n",
       "    <tr>\n",
       "      <th>c2</th>\n",
       "      <td>Adipur21</td>\n",
       "      <td>NaN</td>\n",
       "    </tr>\n",
       "    <tr>\n",
       "      <th>c3</th>\n",
       "      <td>Bhachayu</td>\n",
       "      <td>NaN</td>\n",
       "    </tr>\n",
       "    <tr>\n",
       "      <th>c4</th>\n",
       "      <td>Bhuj</td>\n",
       "      <td>56.0</td>\n",
       "    </tr>\n",
       "    <tr>\n",
       "      <th>c5</th>\n",
       "      <td>NaN</td>\n",
       "      <td>44.0</td>\n",
       "    </tr>\n",
       "    <tr>\n",
       "      <th>c6</th>\n",
       "      <td>Gandhidham</td>\n",
       "      <td>6.0</td>\n",
       "    </tr>\n",
       "  </tbody>\n",
       "</table>\n",
       "</div>"
      ],
      "text/plain": [
       "         City_  distancefromcapital\n",
       "c1       Anjar                 33.0\n",
       "c2    Adipur21                  NaN\n",
       "c3    Bhachayu                  NaN\n",
       "c4        Bhuj                 56.0\n",
       "c5         NaN                 44.0\n",
       "c6  Gandhidham                  6.0"
      ]
     },
     "execution_count": 100,
     "metadata": {},
     "output_type": "execute_result"
    }
   ],
   "source": [
    "# df.rename(): Rename columns.\n",
    "df.rename(columns={\"city\":\"City_\"})"
   ]
  },
  {
   "cell_type": "code",
   "execution_count": 101,
   "id": "a5db9e25-e1b9-479b-b04c-8f3aef7139c0",
   "metadata": {},
   "outputs": [
    {
     "data": {
      "text/html": [
       "<div>\n",
       "<style scoped>\n",
       "    .dataframe tbody tr th:only-of-type {\n",
       "        vertical-align: middle;\n",
       "    }\n",
       "\n",
       "    .dataframe tbody tr th {\n",
       "        vertical-align: top;\n",
       "    }\n",
       "\n",
       "    .dataframe thead th {\n",
       "        text-align: right;\n",
       "    }\n",
       "</style>\n",
       "<table border=\"1\" class=\"dataframe\">\n",
       "  <thead>\n",
       "    <tr style=\"text-align: right;\">\n",
       "      <th></th>\n",
       "      <th>City_</th>\n",
       "      <th>distancefromcapital</th>\n",
       "    </tr>\n",
       "  </thead>\n",
       "  <tbody>\n",
       "    <tr>\n",
       "      <th>c1</th>\n",
       "      <td>Anjar</td>\n",
       "      <td>33.0</td>\n",
       "    </tr>\n",
       "    <tr>\n",
       "      <th>c2</th>\n",
       "      <td>Adipur21</td>\n",
       "      <td>NaN</td>\n",
       "    </tr>\n",
       "    <tr>\n",
       "      <th>c3</th>\n",
       "      <td>Bhachayu</td>\n",
       "      <td>NaN</td>\n",
       "    </tr>\n",
       "    <tr>\n",
       "      <th>c4</th>\n",
       "      <td>Bhuj</td>\n",
       "      <td>56.0</td>\n",
       "    </tr>\n",
       "    <tr>\n",
       "      <th>c5</th>\n",
       "      <td>NaN</td>\n",
       "      <td>44.0</td>\n",
       "    </tr>\n",
       "    <tr>\n",
       "      <th>c6</th>\n",
       "      <td>Gandhidham</td>\n",
       "      <td>6.0</td>\n",
       "    </tr>\n",
       "  </tbody>\n",
       "</table>\n",
       "</div>"
      ],
      "text/plain": [
       "         City_  distancefromcapital\n",
       "c1       Anjar                 33.0\n",
       "c2    Adipur21                  NaN\n",
       "c3    Bhachayu                  NaN\n",
       "c4        Bhuj                 56.0\n",
       "c5         NaN                 44.0\n",
       "c6  Gandhidham                  6.0"
      ]
     },
     "execution_count": 101,
     "metadata": {},
     "output_type": "execute_result"
    }
   ],
   "source": [
    "df.rename(columns={\"city\":\"City_\"}, inplace=True)"
   ]
  },
  {
   "cell_type": "code",
   "execution_count": 102,
   "id": "3c26cab7-7661-497a-8a1d-9d9a08202730",
   "metadata": {},
   "outputs": [
    {
     "data": {
      "text/html": [
       "<div>\n",
       "<style scoped>\n",
       "    .dataframe tbody tr th:only-of-type {\n",
       "        vertical-align: middle;\n",
       "    }\n",
       "\n",
       "    .dataframe tbody tr th {\n",
       "        vertical-align: top;\n",
       "    }\n",
       "\n",
       "    .dataframe thead th {\n",
       "        text-align: right;\n",
       "    }\n",
       "</style>\n",
       "<table border=\"1\" class=\"dataframe\">\n",
       "  <thead>\n",
       "    <tr style=\"text-align: right;\">\n",
       "      <th></th>\n",
       "      <th>City_</th>\n",
       "      <th>distancefromcapital</th>\n",
       "    </tr>\n",
       "  </thead>\n",
       "  <tbody>\n",
       "    <tr>\n",
       "      <th>c1</th>\n",
       "      <td>Anjar</td>\n",
       "      <td>33.0</td>\n",
       "    </tr>\n",
       "    <tr>\n",
       "      <th>c2</th>\n",
       "      <td>Adipur21</td>\n",
       "      <td>NaN</td>\n",
       "    </tr>\n",
       "    <tr>\n",
       "      <th>c3</th>\n",
       "      <td>Bhachayu</td>\n",
       "      <td>NaN</td>\n",
       "    </tr>\n",
       "    <tr>\n",
       "      <th>c4</th>\n",
       "      <td>Bhuj</td>\n",
       "      <td>56.0</td>\n",
       "    </tr>\n",
       "    <tr>\n",
       "      <th>c5</th>\n",
       "      <td>NaN</td>\n",
       "      <td>44.0</td>\n",
       "    </tr>\n",
       "    <tr>\n",
       "      <th>c6</th>\n",
       "      <td>Gandhidham</td>\n",
       "      <td>6.0</td>\n",
       "    </tr>\n",
       "  </tbody>\n",
       "</table>\n",
       "</div>"
      ],
      "text/plain": [
       "         City_  distancefromcapital\n",
       "c1       Anjar                 33.0\n",
       "c2    Adipur21                  NaN\n",
       "c3    Bhachayu                  NaN\n",
       "c4        Bhuj                 56.0\n",
       "c5         NaN                 44.0\n",
       "c6  Gandhidham                  6.0"
      ]
     },
     "execution_count": 102,
     "metadata": {},
     "output_type": "execute_result"
    }
   ],
   "source": [
    "df"
   ]
  },
  {
   "cell_type": "code",
   "execution_count": 105,
   "id": "af2ea9b4-aacf-493f-ad39-7a32e42d5bec",
   "metadata": {},
   "outputs": [
    {
     "data": {
      "text/html": [
       "<div>\n",
       "<style scoped>\n",
       "    .dataframe tbody tr th:only-of-type {\n",
       "        vertical-align: middle;\n",
       "    }\n",
       "\n",
       "    .dataframe tbody tr th {\n",
       "        vertical-align: top;\n",
       "    }\n",
       "\n",
       "    .dataframe thead th {\n",
       "        text-align: right;\n",
       "    }\n",
       "</style>\n",
       "<table border=\"1\" class=\"dataframe\">\n",
       "  <thead>\n",
       "    <tr style=\"text-align: right;\">\n",
       "      <th></th>\n",
       "      <th>City_</th>\n",
       "    </tr>\n",
       "  </thead>\n",
       "  <tbody>\n",
       "    <tr>\n",
       "      <th>c1</th>\n",
       "      <td>Anjar</td>\n",
       "    </tr>\n",
       "    <tr>\n",
       "      <th>c2</th>\n",
       "      <td>Adipur21</td>\n",
       "    </tr>\n",
       "    <tr>\n",
       "      <th>c3</th>\n",
       "      <td>Bhachayu</td>\n",
       "    </tr>\n",
       "    <tr>\n",
       "      <th>c4</th>\n",
       "      <td>Bhuj</td>\n",
       "    </tr>\n",
       "    <tr>\n",
       "      <th>c5</th>\n",
       "      <td>NaN</td>\n",
       "    </tr>\n",
       "    <tr>\n",
       "      <th>c6</th>\n",
       "      <td>Gandhidham</td>\n",
       "    </tr>\n",
       "  </tbody>\n",
       "</table>\n",
       "</div>"
      ],
      "text/plain": [
       "         City_\n",
       "c1       Anjar\n",
       "c2    Adipur21\n",
       "c3    Bhachayu\n",
       "c4        Bhuj\n",
       "c5         NaN\n",
       "c6  Gandhidham"
      ]
     },
     "execution_count": 105,
     "metadata": {},
     "output_type": "execute_result"
    }
   ],
   "source": [
    "# df.drop(): Drop specified labels from rows or columns.\n",
    "df.drop([\"distancefromcapital\"], axis=1) # axis = 1 for column"
   ]
  },
  {
   "cell_type": "code",
   "execution_count": 107,
   "id": "f0db3d2b-901b-4842-9bc8-d4e41912bc51",
   "metadata": {},
   "outputs": [
    {
     "data": {
      "text/html": [
       "<div>\n",
       "<style scoped>\n",
       "    .dataframe tbody tr th:only-of-type {\n",
       "        vertical-align: middle;\n",
       "    }\n",
       "\n",
       "    .dataframe tbody tr th {\n",
       "        vertical-align: top;\n",
       "    }\n",
       "\n",
       "    .dataframe thead th {\n",
       "        text-align: right;\n",
       "    }\n",
       "</style>\n",
       "<table border=\"1\" class=\"dataframe\">\n",
       "  <thead>\n",
       "    <tr style=\"text-align: right;\">\n",
       "      <th></th>\n",
       "      <th>City_</th>\n",
       "      <th>distancefromcapital</th>\n",
       "    </tr>\n",
       "  </thead>\n",
       "  <tbody>\n",
       "    <tr>\n",
       "      <th>c1</th>\n",
       "      <td>Anjar</td>\n",
       "      <td>33.0</td>\n",
       "    </tr>\n",
       "    <tr>\n",
       "      <th>c2</th>\n",
       "      <td>Adipur21</td>\n",
       "      <td>NaN</td>\n",
       "    </tr>\n",
       "    <tr>\n",
       "      <th>c4</th>\n",
       "      <td>Bhuj</td>\n",
       "      <td>56.0</td>\n",
       "    </tr>\n",
       "    <tr>\n",
       "      <th>c5</th>\n",
       "      <td>NaN</td>\n",
       "      <td>44.0</td>\n",
       "    </tr>\n",
       "    <tr>\n",
       "      <th>c6</th>\n",
       "      <td>Gandhidham</td>\n",
       "      <td>6.0</td>\n",
       "    </tr>\n",
       "  </tbody>\n",
       "</table>\n",
       "</div>"
      ],
      "text/plain": [
       "         City_  distancefromcapital\n",
       "c1       Anjar                 33.0\n",
       "c2    Adipur21                  NaN\n",
       "c4        Bhuj                 56.0\n",
       "c5         NaN                 44.0\n",
       "c6  Gandhidham                  6.0"
      ]
     },
     "execution_count": 107,
     "metadata": {},
     "output_type": "execute_result"
    }
   ],
   "source": [
    "df.drop([\"c3\"], axis=0) # axis = 0 for row"
   ]
  },
  {
   "cell_type": "code",
   "execution_count": 110,
   "id": "3495d11c-684a-4a16-b9fa-9f8c9827620d",
   "metadata": {},
   "outputs": [
    {
     "data": {
      "text/html": [
       "<div>\n",
       "<style scoped>\n",
       "    .dataframe tbody tr th:only-of-type {\n",
       "        vertical-align: middle;\n",
       "    }\n",
       "\n",
       "    .dataframe tbody tr th {\n",
       "        vertical-align: top;\n",
       "    }\n",
       "\n",
       "    .dataframe thead th {\n",
       "        text-align: right;\n",
       "    }\n",
       "</style>\n",
       "<table border=\"1\" class=\"dataframe\">\n",
       "  <thead>\n",
       "    <tr style=\"text-align: right;\">\n",
       "      <th></th>\n",
       "      <th>City_</th>\n",
       "      <th>distancefromcapital</th>\n",
       "    </tr>\n",
       "  </thead>\n",
       "  <tbody>\n",
       "    <tr>\n",
       "      <th>c1</th>\n",
       "      <td>Anjar</td>\n",
       "      <td>33.0</td>\n",
       "    </tr>\n",
       "    <tr>\n",
       "      <th>c2</th>\n",
       "      <td>Adipur21</td>\n",
       "      <td>NOT AVALIABLE DATA</td>\n",
       "    </tr>\n",
       "    <tr>\n",
       "      <th>c3</th>\n",
       "      <td>Bhachayu</td>\n",
       "      <td>NOT AVALIABLE DATA</td>\n",
       "    </tr>\n",
       "    <tr>\n",
       "      <th>c4</th>\n",
       "      <td>Bhuj</td>\n",
       "      <td>56.0</td>\n",
       "    </tr>\n",
       "    <tr>\n",
       "      <th>c5</th>\n",
       "      <td>NOT AVALIABLE DATA</td>\n",
       "      <td>44.0</td>\n",
       "    </tr>\n",
       "    <tr>\n",
       "      <th>c6</th>\n",
       "      <td>Gandhidham</td>\n",
       "      <td>6.0</td>\n",
       "    </tr>\n",
       "  </tbody>\n",
       "</table>\n",
       "</div>"
      ],
      "text/plain": [
       "                 City_ distancefromcapital\n",
       "c1               Anjar                33.0\n",
       "c2            Adipur21  NOT AVALIABLE DATA\n",
       "c3            Bhachayu  NOT AVALIABLE DATA\n",
       "c4                Bhuj                56.0\n",
       "c5  NOT AVALIABLE DATA                44.0\n",
       "c6          Gandhidham                 6.0"
      ]
     },
     "execution_count": 110,
     "metadata": {},
     "output_type": "execute_result"
    }
   ],
   "source": [
    "# df.fillna(): Fill missing values.\n",
    "df.fillna(\"NOT AVALIABLE DATA\")"
   ]
  },
  {
   "cell_type": "code",
   "execution_count": 111,
   "id": "3f84cf64-979b-459e-9fd0-1fa1c60877f7",
   "metadata": {},
   "outputs": [
    {
     "data": {
      "text/html": [
       "<div>\n",
       "<style scoped>\n",
       "    .dataframe tbody tr th:only-of-type {\n",
       "        vertical-align: middle;\n",
       "    }\n",
       "\n",
       "    .dataframe tbody tr th {\n",
       "        vertical-align: top;\n",
       "    }\n",
       "\n",
       "    .dataframe thead th {\n",
       "        text-align: right;\n",
       "    }\n",
       "</style>\n",
       "<table border=\"1\" class=\"dataframe\">\n",
       "  <thead>\n",
       "    <tr style=\"text-align: right;\">\n",
       "      <th></th>\n",
       "      <th>City_</th>\n",
       "      <th>distancefromcapital</th>\n",
       "    </tr>\n",
       "  </thead>\n",
       "  <tbody>\n",
       "    <tr>\n",
       "      <th>c1</th>\n",
       "      <td>Anjar</td>\n",
       "      <td>33.0</td>\n",
       "    </tr>\n",
       "    <tr>\n",
       "      <th>c2</th>\n",
       "      <td>Adipur</td>\n",
       "      <td>NaN</td>\n",
       "    </tr>\n",
       "    <tr>\n",
       "      <th>c3</th>\n",
       "      <td>Bhachayu</td>\n",
       "      <td>NaN</td>\n",
       "    </tr>\n",
       "    <tr>\n",
       "      <th>c4</th>\n",
       "      <td>Bhuj</td>\n",
       "      <td>56.0</td>\n",
       "    </tr>\n",
       "    <tr>\n",
       "      <th>c5</th>\n",
       "      <td>NaN</td>\n",
       "      <td>44.0</td>\n",
       "    </tr>\n",
       "    <tr>\n",
       "      <th>c6</th>\n",
       "      <td>Gandhidham</td>\n",
       "      <td>6.0</td>\n",
       "    </tr>\n",
       "  </tbody>\n",
       "</table>\n",
       "</div>"
      ],
      "text/plain": [
       "         City_  distancefromcapital\n",
       "c1       Anjar                 33.0\n",
       "c2      Adipur                  NaN\n",
       "c3    Bhachayu                  NaN\n",
       "c4        Bhuj                 56.0\n",
       "c5         NaN                 44.0\n",
       "c6  Gandhidham                  6.0"
      ]
     },
     "execution_count": 111,
     "metadata": {},
     "output_type": "execute_result"
    }
   ],
   "source": [
    "# df.replace(): Replace values.\n",
    "df.replace(\"Adipur21\", \"Adipur\")"
   ]
  },
  {
   "cell_type": "code",
   "execution_count": 118,
   "id": "7d7145c7-4329-473e-814f-4925a219a797",
   "metadata": {},
   "outputs": [
    {
     "data": {
      "text/plain": [
       "<bound method GroupBy.mean of <pandas.core.groupby.generic.DataFrameGroupBy object at 0x000001E7CC2339A0>>"
      ]
     },
     "execution_count": 118,
     "metadata": {},
     "output_type": "execute_result"
    }
   ],
   "source": [
    "# df.groupby(): Group data by one or more columns.\n",
    "a = pd.read_csv(\"untitled.csv\")\n",
    "g = a.groupby([\"Duration\", \"Calories\"])\n",
    "g.mean"
   ]
  },
  {
   "cell_type": "code",
   "execution_count": 122,
   "id": "adc4e666-969e-41ce-b4a4-b9afec8be0ef",
   "metadata": {},
   "outputs": [
    {
     "name": "stdout",
     "output_type": "stream",
     "text": [
      "<pandas.core.groupby.generic.DataFrameGroupBy object at 0x000001E7CD499880>\n",
      "             Value1      Value2\n",
      "Category                       \n",
      "A         18.333333  183.333333\n",
      "B         22.500000  225.000000\n"
     ]
    }
   ],
   "source": [
    "# chat gpt\n",
    "\n",
    "import pandas as pd\n",
    "\n",
    "# Create a sample DataFrame\n",
    "data = {\n",
    "    'Category': ['A', 'B', 'A', 'B', 'A'],\n",
    "    'Value1': [10, 20, 15, 25, 30],\n",
    "    'Value2': [100, 200, 150, 250, 300]\n",
    "}\n",
    "\n",
    "df = pd.DataFrame(data)\n",
    "\n",
    "# Group the DataFrame by the 'Category' column\n",
    "grouped = df.groupby('Category')\n",
    "\n",
    "# Addres \n",
    "print(grouped)\n",
    "\n",
    "# Calculate the mean of each group\n",
    "means = grouped.mean()\n",
    "\n",
    "print(means)\n"
   ]
  },
  {
   "cell_type": "code",
   "execution_count": 125,
   "id": "da2d0e74-93ef-4a16-a2bf-9f7b89816be3",
   "metadata": {},
   "outputs": [
    {
     "name": "stdout",
     "output_type": "stream",
     "text": [
      "         Date Category  Value\n",
      "0  2023-01-01        A     10\n",
      "1  2023-01-01        B     20\n",
      "2  2023-01-02        A     15\n",
      "3  2023-01-02        B     25\n",
      "4  2023-01-03        A     30\n",
      "Category       A     B\n",
      "Date                  \n",
      "2023-01-01  10.0  20.0\n",
      "2023-01-02  15.0  25.0\n",
      "2023-01-03  30.0   NaN\n"
     ]
    }
   ],
   "source": [
    "# df.pivot_table(): Create a pivot table.\n",
    "# required to read/learn referances\n",
    "# chat gpt\n",
    "\n",
    "# Create a sample DataFrame\n",
    "data = {\n",
    "    'Date': ['2023-01-01', '2023-01-01', '2023-01-02', '2023-01-02', '2023-01-03'],\n",
    "    'Category': ['A', 'B', 'A', 'B', 'A'],\n",
    "    'Value': [10, 20, 15, 25, 30]\n",
    "}\n",
    "\n",
    "df = pd.DataFrame(data)\n",
    "print(df)\n",
    "# Create a pivot table to summarize the data\n",
    "pivot_table = df.pivot_table(values='Value', index='Date', columns='Category', aggfunc='sum')\n",
    "\n",
    "print(pivot_table)\n"
   ]
  },
  {
   "cell_type": "code",
   "execution_count": null,
   "id": "c9fc8143-658f-4391-8b6a-3399edd228da",
   "metadata": {},
   "outputs": [],
   "source": [
    "# df.melt(): Unpivot/melt the DataFrame."
   ]
  },
  {
   "cell_type": "code",
   "execution_count": 3,
   "id": "ad037319-58aa-4df4-a977-e63789a1fe91",
   "metadata": {},
   "outputs": [
    {
     "name": "stdout",
     "output_type": "stream",
     "text": [
      "    A    B     C\n",
      "0   2   20   200\n",
      "1   4   40   400\n",
      "2   6   60   600\n",
      "3   8   80   800\n",
      "4  10  100  1000\n"
     ]
    }
   ],
   "source": [
    "# df.apply(): Apply a function to each element or row/column.\n",
    "\n",
    "import pandas as pd\n",
    "data = {\n",
    "    'A': [1, 2, 3, 4, 5],\n",
    "    'B': [10, 20, 30, 40, 50],\n",
    "    'C': [100, 200, 300, 400, 500]\n",
    "}\n",
    "\n",
    "def doubleTimes(x):\n",
    "    return x * 2\n",
    "\n",
    "df = pd.DataFrame(data)\n",
    "a = df.apply(doubleTimes)\n",
    "print(a)"
   ]
  },
  {
   "cell_type": "code",
   "execution_count": 1,
   "id": "3bad2c4e-463e-4f3d-b81c-c59f5c8b0730",
   "metadata": {},
   "outputs": [],
   "source": [
    "# df.merge(): Merge two DataFrames.\n",
    "# df.join(): Join DataFrames based on their indexes."
   ]
  },
  {
   "cell_type": "code",
   "execution_count": null,
   "id": "ab8ee65b-733e-4f63-a600-c106493f00df",
   "metadata": {},
   "outputs": [],
   "source": []
  }
 ],
 "metadata": {
  "kernelspec": {
   "display_name": "Python 3 (ipykernel)",
   "language": "python",
   "name": "python3"
  },
  "language_info": {
   "codemirror_mode": {
    "name": "ipython",
    "version": 3
   },
   "file_extension": ".py",
   "mimetype": "text/x-python",
   "name": "python",
   "nbconvert_exporter": "python",
   "pygments_lexer": "ipython3",
   "version": "3.9.5"
  }
 },
 "nbformat": 4,
 "nbformat_minor": 5
}
