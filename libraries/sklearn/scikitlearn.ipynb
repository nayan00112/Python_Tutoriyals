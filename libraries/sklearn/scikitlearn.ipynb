{
 "cells": [
  {
   "cell_type": "code",
   "execution_count": 13,
   "id": "6de06511-80d0-4ce1-a253-6ea791d587a7",
   "metadata": {},
   "outputs": [
    {
     "name": "stderr",
     "output_type": "stream",
     "text": [
      "C:\\Users\\ASUS\\AppData\\Local\\Programs\\Python\\Python39\\lib\\site-packages\\sklearn\\base.py:465: UserWarning: X does not have valid feature names, but DecisionTreeClassifier was fitted with feature names\n",
      "  warnings.warn(\n"
     ]
    },
    {
     "data": {
      "text/plain": [
       "array(['HipHop', 'Dance', 'Dance', 'Classical'], dtype=object)"
      ]
     },
     "execution_count": 13,
     "metadata": {},
     "output_type": "execute_result"
    }
   ],
   "source": [
    "import pandas as pd\n",
    "from sklearn.tree import DecisionTreeClassifier\n",
    "\n",
    "music_data = pd.read_csv(\"music.csv\")\n",
    "X = music_data.drop(columns=[\"genre\"])\n",
    "y = music_data[\"genre\"]\n",
    "\n",
    "model = DecisionTreeClassifier()\n",
    "model.fit(X, y)\n",
    "predictions = model.predict([[21, 1] , [22, 0] , [21, 0] , [32, 1]])\n",
    "predictions\n"
   ]
  },
  {
   "cell_type": "code",
   "execution_count": 65,
   "id": "af44b67e-8dc7-4526-8634-e4cdc73f8ef8",
   "metadata": {},
   "outputs": [
    {
     "name": "stdout",
     "output_type": "stream",
     "text": [
      "[[20  1]\n",
      " [23  1]\n",
      " [25  1]\n",
      " [26  1]\n",
      " [29  1]\n",
      " [30  1]\n",
      " [31  1]\n",
      " [33  1]\n",
      " [37  1]\n",
      " [20  0]\n",
      " [21  0]\n",
      " [25  0]\n",
      " [26  0]\n",
      " [27  0]\n",
      " [30  0]\n",
      " [31  0]\n",
      " [34  0]\n",
      " [35  0]]\n",
      "['HipHop' 'HipHop' 'HipHop' 'Jazz' 'Jazz' 'Jazz' 'Classical' 'Classical'\n",
      " 'Classical' 'Dance' 'Dance' 'Dance' 'Acoustic' 'Acoustic' 'Acoustic'\n",
      " 'Classical' 'Classical' 'Classical']\n"
     ]
    },
    {
     "data": {
      "text/plain": [
       "array(['HipHop', 'Dance', 'Dance', 'Classical'], dtype=object)"
      ]
     },
     "execution_count": 65,
     "metadata": {},
     "output_type": "execute_result"
    }
   ],
   "source": [
    "import pandas as pd\n",
    "from sklearn.tree import DecisionTreeClassifier\n",
    "\n",
    "music_data = pd.read_csv(\"music.csv\")\n",
    "X = music_data.drop(columns=[\"genre\"])\n",
    "y = music_data[\"genre\"]\n",
    "\n",
    "# https://stackoverflow.com/questions/73914558/userwarning-x-does-not-have-valid-feature-names-but-decisiontreeclassifier-was\n",
    "X = X.values\n",
    "y = y.values\n",
    "print(X)\n",
    "print(y)\n",
    "# Hence, i think that may be we passs 2D array like dataset or object\n",
    "\n",
    "model = DecisionTreeClassifier()\n",
    "model.fit(X, y)\n",
    "predictions = model.predict([[21, 1] , [22, 0] , [21, 0] , [32, 1]])\n",
    "predictions\n"
   ]
  },
  {
   "cell_type": "code",
   "execution_count": 56,
   "id": "2a6b3624-3b36-4a74-9a05-3989935d4835",
   "metadata": {},
   "outputs": [
    {
     "data": {
      "text/plain": [
       "1.0"
      ]
     },
     "execution_count": 56,
     "metadata": {},
     "output_type": "execute_result"
    }
   ],
   "source": [
    "import pandas as pd\n",
    "from sklearn.tree import DecisionTreeClassifier\n",
    "from sklearn.model_selection import train_test_split\n",
    "from sklearn.metrics import accuracy_score\n",
    "\n",
    "music_data = pd.read_csv(\"music.csv\")\n",
    "X = music_data.drop(columns=[\"genre\"])\n",
    "y = music_data[\"genre\"]\n",
    "\n",
    "X_train, X_test, y_train, y_test = train_test_split(X, y, test_size = 0.2)\n",
    "\n",
    "model = DecisionTreeClassifier()\n",
    "model.fit(X_train, y_train)\n",
    "predictions = model.predict(X_test)\n",
    "\n",
    "score = accuracy_score(y_test, predictions)\n",
    "score\n"
   ]
  },
  {
   "cell_type": "code",
   "execution_count": 64,
   "id": "a624d36f-9414-4991-8b37-73f6aa020b6b",
   "metadata": {},
   "outputs": [
    {
     "data": {
      "text/plain": [
       "array(['HipHop'], dtype=object)"
      ]
     },
     "execution_count": 64,
     "metadata": {},
     "output_type": "execute_result"
    }
   ],
   "source": [
    "import pandas as pd\n",
    "from sklearn.tree import DecisionTreeClassifier\n",
    "\n",
    "music_data = pd.read_csv(\"music.csv\")\n",
    "X = music_data.drop(columns=[\"genre\"])\n",
    "y = music_data[\"genre\"]\n",
    "\n",
    "model = DecisionTreeClassifier()\n",
    "model.fit(X.values, y.values) # https://stackoverflow.com/questions/73914558/userwarning-x-does-not-have-valid-feature-names-but-decisiontreeclassifier-was\n",
    "\n",
    "predictions = model.predict([[23, 1]])\n",
    "predictions"
   ]
  },
  {
   "cell_type": "code",
   "execution_count": null,
   "id": "4da677b9-5d63-4984-8868-70d8ffff69ef",
   "metadata": {},
   "outputs": [],
   "source": []
  }
 ],
 "metadata": {
  "kernelspec": {
   "display_name": "Python 3 (ipykernel)",
   "language": "python",
   "name": "python3"
  },
  "language_info": {
   "codemirror_mode": {
    "name": "ipython",
    "version": 3
   },
   "file_extension": ".py",
   "mimetype": "text/x-python",
   "name": "python",
   "nbconvert_exporter": "python",
   "pygments_lexer": "ipython3",
   "version": "3.9.5"
  }
 },
 "nbformat": 4,
 "nbformat_minor": 5
}
