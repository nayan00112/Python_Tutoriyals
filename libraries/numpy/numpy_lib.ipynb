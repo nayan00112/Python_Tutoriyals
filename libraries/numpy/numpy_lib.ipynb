{
 "cells": [
  {
   "cell_type": "raw",
   "id": "9e85eafc-a7d9-4569-85f7-e517c5512423",
   "metadata": {},
   "source": [
    "NumPy is a popular Python library for numerical and mathematical operations. It provides support for working with arrays and matrices, which are fundamental data structures in scientific computing and data analysis. Some key features and capabilities of NumPy include:\n",
    "\n",
    "1. **Multidimensional Arrays**: NumPy's primary data structure is the `ndarray`, which allows you to create and manipulate arrays with multiple dimensions.\n",
    "\n",
    "2. **Mathematical Functions**: NumPy provides a wide range of mathematical functions for performing operations on arrays, such as addition, subtraction, multiplication, and more.\n",
    "\n",
    "3. **Broadcasting**: NumPy allows you to perform operations on arrays of different shapes, thanks to its broadcasting rules, which can simplify code and improve performance.\n",
    "\n",
    "4. **Random Number Generation**: It includes functions for generating random numbers and random sampling from various distributions.\n",
    "\n",
    "5. **Linear Algebra Operations**: NumPy offers linear algebra capabilities, including matrix multiplication, determinant calculation, and eigenvalue analysis.\n",
    "\n",
    "6. **Integration with Other Libraries**: NumPy seamlessly integrates with other scientific and data analysis libraries like SciPy, Matplotlib, and Pandas.\n",
    "\n",
    "To get started with NumPy, you typically need to import it using:\n",
    "\n",
    "```python\n",
    "import numpy as np\n",
    "```\n",
    "\n",
    "Then, you can create NumPy arrays, perform operations on them, and leverage its functionality for a wide range of scientific and numerical computing tasks. It's a fundamental library in the Python ecosystem for data manipulation and analysis."
   ]
  },
  {
   "cell_type": "code",
   "execution_count": 1,
   "id": "0fea0efe-5038-449f-a1c7-62bd174b7d6e",
   "metadata": {},
   "outputs": [],
   "source": [
    "# import numpy library as np\n",
    "import numpy as np"
   ]
  },
  {
   "cell_type": "code",
   "execution_count": 2,
   "id": "5fdbd138-7a0a-486b-816e-074186631f8f",
   "metadata": {},
   "outputs": [
    {
     "name": "stdout",
     "output_type": "stream",
     "text": [
      "[4 5 7 8]\n",
      "7\n",
      "[0. 0. 0. 0. 0.]\n",
      "[1. 1. 1. 1. 1.]\n",
      "[1. 1. 1. 1. 1.]\n"
     ]
    }
   ],
   "source": [
    "# Creating Arrays\n",
    "\n",
    "arr1 = np.array([4,5,7,8])\n",
    "print(arr1)\n",
    "print(arr1[2])\n",
    "\n",
    "arr2 = np.zeros(5)\n",
    "print(arr2)\n",
    "\n",
    "arr3 = np.ones(5)\n",
    "print(arr3)\n",
    "\n",
    "arr4 = np.empty(5)\n",
    "print(arr4)\n"
   ]
  },
  {
   "cell_type": "raw",
   "id": "69c03fa8-4dab-423c-b691-001bfcb60ead",
   "metadata": {},
   "source": [
    "empty() does not initialize the memory, therefore your array will be filled with garbage and you will have to initialize all cells.\n",
    "zeros() initializes everything to 0. Therefore, if your final result includes lots of zeros, this will save you the time to set all those array cells to zero manually."
   ]
  },
  {
   "cell_type": "code",
   "execution_count": 6,
   "id": "26f75dab-95aa-4c6a-9828-2e832bff1d81",
   "metadata": {},
   "outputs": [
    {
     "name": "stdout",
     "output_type": "stream",
     "text": [
      "(6,)\n"
     ]
    }
   ],
   "source": [
    "# Array Attributes:\n",
    "arr = np.array([4, 6, 8, 4, 22, 75])\n",
    "print(np.shape(arr))"
   ]
  },
  {
   "cell_type": "code",
   "execution_count": 11,
   "id": "e032719e-7189-43d7-8596-f13e92549700",
   "metadata": {},
   "outputs": [
    {
     "name": "stdout",
     "output_type": "stream",
     "text": [
      "2\n"
     ]
    }
   ],
   "source": [
    "list_num = [[3, 5, 2], [4, 7, 3]]\n",
    "arr = np.array(list_num)\n",
    "print(np.ndim(arr))\n"
   ]
  },
  {
   "cell_type": "code",
   "execution_count": 15,
   "id": "c4a6fa68-97e1-4c0a-8bc1-1d8749911b2c",
   "metadata": {},
   "outputs": [
    {
     "data": {
      "text/plain": [
       "dtype('int16')"
      ]
     },
     "execution_count": 15,
     "metadata": {},
     "output_type": "execute_result"
    }
   ],
   "source": [
    "np.dtype(np.int16)"
   ]
  },
  {
   "cell_type": "code",
   "execution_count": 16,
   "id": "9012bc07-0383-43df-bab4-8fa3a33ea182",
   "metadata": {},
   "outputs": [
    {
     "data": {
      "text/plain": [
       "6"
      ]
     },
     "execution_count": 16,
     "metadata": {},
     "output_type": "execute_result"
    }
   ],
   "source": [
    "np.size(arr)"
   ]
  },
  {
   "cell_type": "code",
   "execution_count": 23,
   "id": "cc99fc6d-d706-4078-bd09-7b0740aa151e",
   "metadata": {},
   "outputs": [
    {
     "name": "stdout",
     "output_type": "stream",
     "text": [
      "<class 'numpy.ndarray'>\n"
     ]
    }
   ],
   "source": [
    "print(type(arr))\n",
    "# arr.size(arr)"
   ]
  },
  {
   "cell_type": "code",
   "execution_count": 17,
   "id": "085fd02a-4581-434a-b3fd-3912996a543e",
   "metadata": {},
   "outputs": [
    {
     "data": {
      "text/plain": [
       "2"
      ]
     },
     "execution_count": 17,
     "metadata": {},
     "output_type": "execute_result"
    }
   ],
   "source": [
    "arr.min()"
   ]
  },
  {
   "cell_type": "code",
   "execution_count": 24,
   "id": "286800c1-8b04-4e67-b8f7-090aa39420c2",
   "metadata": {},
   "outputs": [
    {
     "data": {
      "text/plain": [
       "7"
      ]
     },
     "execution_count": 24,
     "metadata": {},
     "output_type": "execute_result"
    }
   ],
   "source": [
    "arr.max()"
   ]
  },
  {
   "cell_type": "code",
   "execution_count": 25,
   "id": "3c7de51e-d347-4d11-bdad-c38a1dbca323",
   "metadata": {},
   "outputs": [
    {
     "data": {
      "text/plain": [
       "24"
      ]
     },
     "execution_count": 25,
     "metadata": {},
     "output_type": "execute_result"
    }
   ],
   "source": [
    "arr.sum()"
   ]
  },
  {
   "cell_type": "code",
   "execution_count": 26,
   "id": "6bee2a34-0e58-4cb0-bed6-00f8cc05a2b0",
   "metadata": {},
   "outputs": [
    {
     "data": {
      "text/plain": [
       "4.0"
      ]
     },
     "execution_count": 26,
     "metadata": {},
     "output_type": "execute_result"
    }
   ],
   "source": [
    "arr.mean()"
   ]
  },
  {
   "cell_type": "code",
   "execution_count": 27,
   "id": "7b7901d1-10db-46c5-a041-3705852d3134",
   "metadata": {},
   "outputs": [
    {
     "data": {
      "text/plain": [
       "1.632993161855452"
      ]
     },
     "execution_count": 27,
     "metadata": {},
     "output_type": "execute_result"
    }
   ],
   "source": [
    "arr.std()"
   ]
  },
  {
   "cell_type": "code",
   "execution_count": 30,
   "id": "ad78a31d-9ea2-473b-b3fe-2a580eb73065",
   "metadata": {},
   "outputs": [
    {
     "data": {
      "text/plain": [
       "112"
      ]
     },
     "execution_count": 30,
     "metadata": {},
     "output_type": "execute_result"
    }
   ],
   "source": [
    "a = np.array([3,5,7,8])\n",
    "b = np.array([7,5,6,3])\n",
    "\n",
    "a.dot(b)\n"
   ]
  },
  {
   "cell_type": "code",
   "execution_count": 37,
   "id": "773371ea-2a8c-4473-b6a7-d22f1289b687",
   "metadata": {},
   "outputs": [
    {
     "name": "stdout",
     "output_type": "stream",
     "text": [
      "[[3 5 2]\n",
      " [4 7 3]]\n",
      "\n",
      "[[3 4]\n",
      " [5 7]\n",
      " [2 3]]\n"
     ]
    }
   ],
   "source": [
    "list_num = [[3, 5, 2], [4, 7, 3]]\n",
    "arr = np.array(list_num)\n",
    "print(arr)\n",
    "print()\n",
    "print(arr.transpose())"
   ]
  },
  {
   "cell_type": "code",
   "execution_count": 58,
   "id": "c76b7dab-ba6b-40c1-8610-20334761b306",
   "metadata": {},
   "outputs": [
    {
     "name": "stdout",
     "output_type": "stream",
     "text": [
      "7\n",
      "6\n",
      "[6 0]\n",
      "[6 7 8 9]\n",
      "[6 8]\n",
      "[3 5]\n",
      "[3 5 7 9]\n",
      "[7 9]\n"
     ]
    }
   ],
   "source": [
    "# Array Slicing and Indexing:\n",
    "list_1d = [3,4, 5, 6, 7, 8, 9, 0]\n",
    "arr = np.array(list_1d)\n",
    "print(arr[4])\n",
    "print(arr[3])\n",
    "print(arr[[3, 7]])\n",
    "print(arr[3 : 7])\n",
    "print(arr[3 : 7 : 2])\n",
    "print(arr[ : 3 : 2])\n",
    "print(arr[ :  : 2])\n",
    "print(arr[ 4:  : 2])\n",
    "# ndarray[start:stop:step]"
   ]
  },
  {
   "cell_type": "code",
   "execution_count": 65,
   "id": "0b8dc983-bf36-4257-ae52-5206969fea39",
   "metadata": {},
   "outputs": [
    {
     "name": "stdout",
     "output_type": "stream",
     "text": [
      "[ 4  6  7  8  9 54 34 67]\n"
     ]
    }
   ],
   "source": [
    "# Array Concatenation and Stacking:\n",
    "a = np.array([4, 6, 7, 8, 9])\n",
    "b = np.array([54, 34, 67])\n",
    "print(np.concatenate((a,b)))\n",
    "\n",
    "a = np.array([4, 6, 7, 9])\n",
    "b = np.array([54, 34, 67])\n",
    "# np.concatenate((a,b), axis=1) #https://numpy.org/doc/stable/reference/generated/numpy.concatenate.html"
   ]
  },
  {
   "cell_type": "code",
   "execution_count": 66,
   "id": "1a96fe1e-0cd1-4a6c-97b9-d22416d36eaf",
   "metadata": {},
   "outputs": [
    {
     "data": {
      "text/plain": [
       "array([[4],\n",
       "       [6],\n",
       "       [7],\n",
       "       [9]])"
      ]
     },
     "execution_count": 66,
     "metadata": {},
     "output_type": "execute_result"
    }
   ],
   "source": [
    "np.vstack(a)"
   ]
  },
  {
   "cell_type": "code",
   "execution_count": 68,
   "id": "308cb7ae-9277-4682-ac0b-4b81c38eb119",
   "metadata": {},
   "outputs": [
    {
     "data": {
      "text/plain": [
       "array([4, 6, 7, 9])"
      ]
     },
     "execution_count": 68,
     "metadata": {},
     "output_type": "execute_result"
    }
   ],
   "source": [
    "np.hstack(a)"
   ]
  },
  {
   "cell_type": "code",
   "execution_count": null,
   "id": "fb5f9ef4-ba34-40e7-b738-0bb330275605",
   "metadata": {},
   "outputs": [],
   "source": [
    "# Array Broadcasting:\n",
    "\n",
    "# NumPy allows you to perform operations on arrays of different shapes through broadcasting.\n"
   ]
  },
  {
   "cell_type": "code",
   "execution_count": 112,
   "id": "f4ddfa4e-f162-4da4-b88a-7182b9c8a2e1",
   "metadata": {},
   "outputs": [
    {
     "name": "stdout",
     "output_type": "stream",
     "text": [
      "<class 'numpy.ndarray'>\n",
      "[[11 22 33]\n",
      " [14 25 36]]\n"
     ]
    }
   ],
   "source": [
    "\n",
    "# Create a 2x3 array\n",
    "array1 = np.array([[1, 2, 3],\n",
    "                   [4, 5, 6]])\n",
    "\n",
    "# Create a 1x3 array\n",
    "array2 = np.array([10, 20, 30])\n",
    "\n",
    "# Add the two arrays using broadcasting\n",
    "result = array1 + array2\n",
    "print(type(result))\n",
    "print(result)"
   ]
  },
  {
   "cell_type": "code",
   "execution_count": 69,
   "id": "e8537d24-28dd-4761-a79a-8c33db215cad",
   "metadata": {},
   "outputs": [
    {
     "data": {
      "text/plain": [
       "array([-0.7568025 , -0.2794155 ,  0.6569866 ,  0.41211849])"
      ]
     },
     "execution_count": 69,
     "metadata": {},
     "output_type": "execute_result"
    }
   ],
   "source": [
    "# Mathematical Functions:\n",
    "np.sin(a)"
   ]
  },
  {
   "cell_type": "code",
   "execution_count": 70,
   "id": "f8255571-4039-41e2-b6dc-be94a11bc829",
   "metadata": {},
   "outputs": [
    {
     "data": {
      "text/plain": [
       "array([-0.65364362,  0.96017029,  0.75390225, -0.91113026])"
      ]
     },
     "execution_count": 70,
     "metadata": {},
     "output_type": "execute_result"
    }
   ],
   "source": [
    "np.cos(a)"
   ]
  },
  {
   "cell_type": "code",
   "execution_count": 71,
   "id": "6b64cb18-027e-44a3-9246-3143bf46ecad",
   "metadata": {},
   "outputs": [
    {
     "data": {
      "text/plain": [
       "array([  54.59815003,  403.42879349, 1096.63315843, 8103.08392758])"
      ]
     },
     "execution_count": 71,
     "metadata": {},
     "output_type": "execute_result"
    }
   ],
   "source": [
    "np.exp(a)"
   ]
  },
  {
   "cell_type": "code",
   "execution_count": 84,
   "id": "c2c75784-ee4d-416e-b420-08a114c17b6a",
   "metadata": {},
   "outputs": [
    {
     "data": {
      "text/plain": [
       "array([ 1.15782128, -0.29100619,  0.87144798, -0.45231566])"
      ]
     },
     "execution_count": 84,
     "metadata": {},
     "output_type": "execute_result"
    }
   ],
   "source": [
    "np.tan(a)"
   ]
  },
  {
   "cell_type": "code",
   "execution_count": 86,
   "id": "7248ec2d-cd3e-434f-b21f-91370cae7aee",
   "metadata": {},
   "outputs": [
    {
     "data": {
      "text/plain": [
       "array([-0.85840735, -0.28318531,  0.71681469,  0.42477796])"
      ]
     },
     "execution_count": 86,
     "metadata": {},
     "output_type": "execute_result"
    }
   ],
   "source": [
    "np.arcsin(np.sin(a))"
   ]
  },
  {
   "cell_type": "code",
   "execution_count": 87,
   "id": "fc75046d-94fa-407d-a10d-ab474614329b",
   "metadata": {},
   "outputs": [
    {
     "data": {
      "text/plain": [
       "array([2.28318531, 0.28318531, 0.71681469, 2.71681469])"
      ]
     },
     "execution_count": 87,
     "metadata": {},
     "output_type": "execute_result"
    }
   ],
   "source": [
    "np.arccos(np.cos(a))"
   ]
  },
  {
   "cell_type": "code",
   "execution_count": 88,
   "id": "938a299f-9f63-4a93-844a-a4d8a0440f14",
   "metadata": {},
   "outputs": [
    {
     "data": {
      "text/plain": [
       "array([ 0.85840735, -0.28318531,  0.71681469, -0.42477796])"
      ]
     },
     "execution_count": 88,
     "metadata": {},
     "output_type": "execute_result"
    }
   ],
   "source": [
    "np.arctan(np.tan(a))"
   ]
  },
  {
   "cell_type": "code",
   "execution_count": 72,
   "id": "183792a3-f8cd-4f46-8f18-392c70eed81d",
   "metadata": {},
   "outputs": [
    {
     "data": {
      "text/plain": [
       "array([1.38629436, 1.79175947, 1.94591015, 2.19722458])"
      ]
     },
     "execution_count": 72,
     "metadata": {},
     "output_type": "execute_result"
    }
   ],
   "source": [
    "np.log(a)"
   ]
  },
  {
   "cell_type": "code",
   "execution_count": 77,
   "id": "c3ed790e-4dd7-4c9d-9722-b5665bb67be6",
   "metadata": {},
   "outputs": [
    {
     "name": "stdout",
     "output_type": "stream",
     "text": [
      "[4 6 7 9]\n",
      "[104 106 107 109]\n"
     ]
    }
   ],
   "source": [
    "print(a)\n",
    "print(np.add(a, 100))"
   ]
  },
  {
   "cell_type": "code",
   "execution_count": 79,
   "id": "fd6d1f60-2f80-4956-a95b-bcb6e2f26c8b",
   "metadata": {},
   "outputs": [
    {
     "name": "stdout",
     "output_type": "stream",
     "text": [
      "[4 6 7 9]\n",
      "[-96 -94 -93 -91]\n"
     ]
    }
   ],
   "source": [
    "print(a)\n",
    "print(np.subtract(a, 100))"
   ]
  },
  {
   "cell_type": "code",
   "execution_count": 81,
   "id": "0d6a38f0-498c-4103-933f-5fe8e9a64820",
   "metadata": {},
   "outputs": [
    {
     "name": "stdout",
     "output_type": "stream",
     "text": [
      "[4 6 7 9]\n",
      "[400 600 700 900]\n"
     ]
    }
   ],
   "source": [
    "print(a)\n",
    "print(np.multiply(a, 100))"
   ]
  },
  {
   "cell_type": "code",
   "execution_count": 82,
   "id": "430eaeb4-9571-43ca-8c12-77f44419957a",
   "metadata": {},
   "outputs": [
    {
     "name": "stdout",
     "output_type": "stream",
     "text": [
      "[4 6 7 9]\n",
      "[0.04 0.06 0.07 0.09]\n"
     ]
    }
   ],
   "source": [
    "print(a)\n",
    "print(np.divide(a, 100))"
   ]
  },
  {
   "cell_type": "code",
   "execution_count": 89,
   "id": "3f68f275-5b58-4df8-80f0-9da5003a241a",
   "metadata": {},
   "outputs": [
    {
     "data": {
      "text/plain": [
       "array([229.18311805, 343.77467708, 401.07045659, 515.66201562])"
      ]
     },
     "execution_count": 89,
     "metadata": {},
     "output_type": "execute_result"
    }
   ],
   "source": [
    "np.degrees(a)"
   ]
  },
  {
   "cell_type": "code",
   "execution_count": 90,
   "id": "b49f664c-320d-46b3-80d9-57bb8b6a8f75",
   "metadata": {},
   "outputs": [
    {
     "data": {
      "text/plain": [
       "array([0.06981317, 0.10471976, 0.12217305, 0.15707963])"
      ]
     },
     "execution_count": 90,
     "metadata": {},
     "output_type": "execute_result"
    }
   ],
   "source": [
    "np.radians(a)"
   ]
  },
  {
   "cell_type": "code",
   "execution_count": 92,
   "id": "5042b3c5-97c0-4742-84b2-4b191c8a052d",
   "metadata": {},
   "outputs": [],
   "source": [
    "# https://www.programiz.com/python-programming/numpy/math-functions"
   ]
  },
  {
   "cell_type": "code",
   "execution_count": 93,
   "id": "7f956634-9666-499a-97ea-4a879a390a22",
   "metadata": {},
   "outputs": [],
   "source": [
    "# Random Number Generation:"
   ]
  },
  {
   "cell_type": "code",
   "execution_count": 94,
   "id": "5c3e310f-e853-4421-a004-65a64ad01346",
   "metadata": {},
   "outputs": [
    {
     "name": "stdout",
     "output_type": "stream",
     "text": [
      "0.9795074223290935\n"
     ]
    }
   ],
   "source": [
    "print(np.random.rand())"
   ]
  },
  {
   "cell_type": "code",
   "execution_count": 95,
   "id": "e9e6afb0-f2dd-48e3-8e4e-95ca53e48b33",
   "metadata": {},
   "outputs": [
    {
     "name": "stdout",
     "output_type": "stream",
     "text": [
      "0.44850242798337575\n"
     ]
    }
   ],
   "source": [
    "print(np.random.randn())\n"
   ]
  },
  {
   "cell_type": "code",
   "execution_count": 97,
   "id": "f0584e44-b385-4269-9227-941eb02b4fc4",
   "metadata": {},
   "outputs": [
    {
     "name": "stdout",
     "output_type": "stream",
     "text": [
      "2\n"
     ]
    }
   ],
   "source": [
    "print(np.random.randint(10))\n"
   ]
  },
  {
   "cell_type": "code",
   "execution_count": 98,
   "id": "61e029da-9cce-4637-9e99-345e126a988e",
   "metadata": {},
   "outputs": [
    {
     "name": "stdout",
     "output_type": "stream",
     "text": [
      "4\n"
     ]
    }
   ],
   "source": [
    "print(np.random.randint(10))\n"
   ]
  },
  {
   "cell_type": "code",
   "execution_count": 100,
   "id": "b53ec08c-4c22-4763-8941-df4696317966",
   "metadata": {},
   "outputs": [
    {
     "name": "stdout",
     "output_type": "stream",
     "text": [
      "None\n"
     ]
    }
   ],
   "source": [
    "print(np.random.seed(12))\n"
   ]
  },
  {
   "cell_type": "code",
   "execution_count": 103,
   "id": "a8198a1d-19af-4e54-8253-1e27988c1ee6",
   "metadata": {},
   "outputs": [
    {
     "data": {
      "text/plain": [
       "array([[-13.1,   9.6,  -2.7,   2.9],\n",
       "       [  4.7,  -3.2,   0.9,  -1.3],\n",
       "       [  9.9,  -7.4,   2.3,  -2.1],\n",
       "       [ -4. ,   3. ,  -1. ,   1. ]])"
      ]
     },
     "execution_count": 103,
     "metadata": {},
     "output_type": "execute_result"
    }
   ],
   "source": [
    "# Linear Algebra:\n",
    "matr = [[3, 4, 5, 7], [5, 6, 7, 8], [5, 3, 6, 2], [2, 1, 5, 7]]\n",
    "\n",
    "m = np.array(matr)\n",
    "np.linalg.inv(m)"
   ]
  },
  {
   "cell_type": "code",
   "execution_count": 104,
   "id": "b843dcb9-60fc-4387-929b-b516a3144263",
   "metadata": {},
   "outputs": [
    {
     "data": {
      "text/plain": [
       "-9.99999999999993"
      ]
     },
     "execution_count": 104,
     "metadata": {},
     "output_type": "execute_result"
    }
   ],
   "source": [
    "np.linalg.det(matr)"
   ]
  },
  {
   "cell_type": "code",
   "execution_count": 105,
   "id": "ac2071e4-6b46-450f-b11f-b317b664c905",
   "metadata": {},
   "outputs": [
    {
     "data": {
      "text/plain": [
       "EigResult(eigenvalues=array([18.01754886+0.j        , -0.07356661+0.j        ,\n",
       "        2.02800888+1.85244688j,  2.02800888-1.85244688j]), eigenvectors=array([[-0.48444376+0.j        , -0.75202037+0.j        ,\n",
       "        -0.31024942+0.17169189j, -0.31024942-0.17169189j],\n",
       "       [-0.68044499+0.j        ,  0.26367487+0.j        ,\n",
       "        -0.1032407 +0.33725028j, -0.1032407 -0.33725028j],\n",
       "       [-0.42871242+0.j        ,  0.56190033+0.j        ,\n",
       "         0.68714234+0.j        ,  0.68714234-0.j        ],\n",
       "       [-0.34425939+0.j        , -0.22183092+0.j        ,\n",
       "        -0.43417705-0.29865781j, -0.43417705+0.29865781j]]))"
      ]
     },
     "execution_count": 105,
     "metadata": {},
     "output_type": "execute_result"
    }
   ],
   "source": [
    "np.linalg.eig(matr)"
   ]
  },
  {
   "cell_type": "code",
   "execution_count": 107,
   "id": "a50657a8-fa84-4baf-b610-4f9893b4e9c0",
   "metadata": {},
   "outputs": [
    {
     "data": {
      "text/plain": [
       "6.5"
      ]
     },
     "execution_count": 107,
     "metadata": {},
     "output_type": "execute_result"
    }
   ],
   "source": [
    "# Statistical Functions:\n",
    "np.mean(a)"
   ]
  },
  {
   "cell_type": "code",
   "execution_count": 108,
   "id": "a396641e-a07d-4d11-805e-abb37877057a",
   "metadata": {},
   "outputs": [
    {
     "data": {
      "text/plain": [
       "6.5"
      ]
     },
     "execution_count": 108,
     "metadata": {},
     "output_type": "execute_result"
    }
   ],
   "source": [
    "np.median(a)"
   ]
  },
  {
   "cell_type": "code",
   "execution_count": 109,
   "id": "3bcde27b-1451-45f0-8bc9-76477521b9ff",
   "metadata": {},
   "outputs": [
    {
     "data": {
      "text/plain": [
       "3.25"
      ]
     },
     "execution_count": 109,
     "metadata": {},
     "output_type": "execute_result"
    }
   ],
   "source": [
    "np.var(a)"
   ]
  },
  {
   "cell_type": "code",
   "execution_count": 110,
   "id": "9638ec1f-1ac2-4f14-9c8d-518cef2f8201",
   "metadata": {},
   "outputs": [
    {
     "data": {
      "text/plain": [
       "1.8027756377319946"
      ]
     },
     "execution_count": 110,
     "metadata": {},
     "output_type": "execute_result"
    }
   ],
   "source": [
    "np.std(a)"
   ]
  },
  {
   "cell_type": "code",
   "execution_count": null,
   "id": "eb6ce2b9-1822-430d-b45a-3163ea44e90a",
   "metadata": {},
   "outputs": [],
   "source": []
  }
 ],
 "metadata": {
  "kernelspec": {
   "display_name": "Python 3 (ipykernel)",
   "language": "python",
   "name": "python3"
  },
  "language_info": {
   "codemirror_mode": {
    "name": "ipython",
    "version": 3
   },
   "file_extension": ".py",
   "mimetype": "text/x-python",
   "name": "python",
   "nbconvert_exporter": "python",
   "pygments_lexer": "ipython3",
   "version": "3.9.5"
  }
 },
 "nbformat": 4,
 "nbformat_minor": 5
}
