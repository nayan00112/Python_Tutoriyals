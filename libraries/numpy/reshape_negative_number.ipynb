{
 "cells": [
  {
   "cell_type": "markdown",
   "id": "32e3c13c-a651-4893-8978-8746e50cef98",
   "metadata": {},
   "source": [
    "Certainly! Let's delve into the concept of reshaping arrays in **NumPy**.\n",
    "\n",
    "When working with arrays in NumPy, you might encounter the use of `-1` as a parameter in the `reshape()` function. Let's break it down:\n",
    "\n",
    "1. **Flattening an Array**:\n",
    "   - Suppose you have a 2D array, and you want to transform it into a 1D array. You can achieve this using `.reshape(-1)`.\n",
    "   - For example:\n",
    "     ```python\n",
    "     import numpy as np\n",
    "     a = np.array([[1, 2, 3, 4], [5, 6, 7, 8]])\n",
    "     flattened_array = a.reshape(-1)\n",
    "     ```\n",
    "     The resulting `flattened_array` will be: `array([1, 2, 3, 4, 5, 6, 7, 8])`.\n",
    "\n",
    "2. **Unknown Dimension**:\n",
    "   - When you use `-1` as a parameter, it means \"whatever it takes\" to achieve the desired shape.\n",
    "   - For instance:\n",
    "     - `a.reshape(2, -1)` means \"2 rows and as many columns as needed.\"\n",
    "     - `a.reshape(4, -1)` means \"4 rows and as many columns as needed.\"\n",
    "     - `a.reshape(2, 2, -1)` means \"a 3D array with dimensions 2x2x2.\"\n",
    "     - And simply `a.reshape(-1)` means \"flatten the array.\"\n",
    "   - NumPy infers the missing dimension based on the length of the array and the other specified dimensions.\n",
    "\n",
    "3. **Examples**:\n",
    "   - Let's consider an array `z`:\n",
    "     ```python\n",
    "     z = np.array([[1, 2, 3, 4], [5, 6, 7, 8], [9, 10, 11, 12]])\n",
    "     ```\n",
    "     - `z.shape` is `(3, 4)`.\n",
    "     - Reshaping with `z.reshape(-1)` results in a 1D array: `array([1, 2, 3, 4, 5, 6, 7, 8, 9, 10, 11, 12])`.\n",
    "     - Reshaping with `z.reshape(-1, 1)` gives a column vector: \n",
    "       ```\n",
    "       array([[ 1],\n",
    "              [ 2],\n",
    "              [ 3],\n",
    "              [ 4],\n",
    "              [ 5],\n",
    "              [ 6],\n",
    "              [ 7],\n",
    "              [ 8],\n",
    "              [ 9],\n",
    "              [10],\n",
    "              [11],\n",
    "              [12]])\n",
    "       ```\n",
    "     - Using `z.reshape(-1, 2)` results in a 2-column array:\n",
    "       ```\n",
    "       array([[ 1,  2],\n",
    "              [ 3,  4],\n",
    "              [ 5,  6],\n",
    "              [ 7,  8],\n",
    "              [ 9, 10],\n",
    "              [11, 12]])\n",
    "       ```\n",
    "     - And finally, `z.reshape(3, -1)` yields:\n",
    "       ```\n",
    "       array([[ 1,  2,  3,  4],\n",
    "              [ 5,  6,  7,  8],\n",
    "              [ 9, 10, 11, 12]])\n",
    "       ```\n",
    "\n",
    "Remember, `-1` acts as a placeholder for an unknown dimension, allowing NumPy to determine the appropriate shape based on other specified dimensions. 🚀🔍\n",
    "\n",
    "For more details, you can refer to the [official NumPy documentation](https://numpy.org/doc/stable/reference/generated/numpy.reshape).¹²\n",
    "\n",
    "Source: Conversation with Bing, 4/4/2024\n",
    "(1) python - What does -1 mean in numpy reshape? - Stack Overflow. https://stackoverflow.com/questions/18691084/what-does-1-mean-in-numpy-reshape.\n",
    "(2) reshaping data in numpy with (-1,1). What does it mean?. https://stackoverflow.com/questions/57962718/reshaping-data-in-numpy-with-1-1-what-does-it-mean.\n",
    "(3) numpy.reshape — NumPy v1.26 Manual. https://numpy.org/doc/stable/reference/generated/numpy.reshape.\n",
    "(4) github.com. https://github.com/tinmarino/wiki/tree/e66f62b7ca18593ff010d2e82106eb31a8cfe880/So%2FNumpy_top_100.md."
   ]
  },
  {
   "cell_type": "code",
   "execution_count": 3,
   "id": "dfc2a404-fb75-498d-bb5d-d31eb3d6f362",
   "metadata": {},
   "outputs": [
    {
     "name": "stdout",
     "output_type": "stream",
     "text": [
      "12\n"
     ]
    },
    {
     "data": {
      "text/plain": [
       "(12,)"
      ]
     },
     "execution_count": 3,
     "metadata": {},
     "output_type": "execute_result"
    }
   ],
   "source": [
    "import numpy\n",
    "a = [3, 2, 5, 6, 8, 4, 1, 6, 7,3, 4 , 2]\n",
    "\n",
    "print(len(a))\n",
    "b = numpy.array(a)\n",
    "\n",
    "b.shape"
   ]
  },
  {
   "cell_type": "code",
   "execution_count": 4,
   "id": "1673649d-1ca6-4002-bdc7-859b3b39baca",
   "metadata": {},
   "outputs": [
    {
     "data": {
      "text/plain": [
       "array([[3, 2, 5],\n",
       "       [6, 8, 4],\n",
       "       [1, 6, 7],\n",
       "       [3, 4, 2]])"
      ]
     },
     "execution_count": 4,
     "metadata": {},
     "output_type": "execute_result"
    }
   ],
   "source": [
    "b.reshape(4, 3)"
   ]
  },
  {
   "cell_type": "code",
   "execution_count": 5,
   "id": "78dfee2d-56c3-4d76-9be0-33605a6a08ac",
   "metadata": {},
   "outputs": [
    {
     "data": {
      "text/plain": [
       "array([[[3, 2, 5],\n",
       "        [6, 8, 4]],\n",
       "\n",
       "       [[1, 6, 7],\n",
       "        [3, 4, 2]]])"
      ]
     },
     "execution_count": 5,
     "metadata": {},
     "output_type": "execute_result"
    }
   ],
   "source": [
    "b.reshape(2, 2, 3)"
   ]
  },
  {
   "cell_type": "code",
   "execution_count": 6,
   "id": "dd6203ea-1f5d-401e-8263-6eaa8c376dc3",
   "metadata": {},
   "outputs": [
    {
     "data": {
      "text/plain": [
       "array([[3, 2, 5, 6],\n",
       "       [8, 4, 1, 6],\n",
       "       [7, 3, 4, 2]])"
      ]
     },
     "execution_count": 6,
     "metadata": {},
     "output_type": "execute_result"
    }
   ],
   "source": [
    "b.reshape(3, -1)"
   ]
  },
  {
   "cell_type": "code",
   "execution_count": 8,
   "id": "f865a6cc-e239-42f4-a481-25f03e27c7e8",
   "metadata": {},
   "outputs": [
    {
     "data": {
      "text/plain": [
       "array([[[3, 2],\n",
       "        [5, 6]],\n",
       "\n",
       "       [[8, 4],\n",
       "        [1, 6]],\n",
       "\n",
       "       [[7, 3],\n",
       "        [4, 2]]])"
      ]
     },
     "execution_count": 8,
     "metadata": {},
     "output_type": "execute_result"
    }
   ],
   "source": [
    "b.reshape(3, 2 , -1)"
   ]
  },
  {
   "cell_type": "code",
   "execution_count": null,
   "id": "99ab96ed-f89c-4931-821e-ac5c79fe5c83",
   "metadata": {},
   "outputs": [],
   "source": [
    "#we use -1 only one times."
   ]
  }
 ],
 "metadata": {
  "kernelspec": {
   "display_name": "Python 3 (ipykernel)",
   "language": "python",
   "name": "python3"
  },
  "language_info": {
   "codemirror_mode": {
    "name": "ipython",
    "version": 3
   },
   "file_extension": ".py",
   "mimetype": "text/x-python",
   "name": "python",
   "nbconvert_exporter": "python",
   "pygments_lexer": "ipython3",
   "version": "3.12.1"
  }
 },
 "nbformat": 4,
 "nbformat_minor": 5
}
