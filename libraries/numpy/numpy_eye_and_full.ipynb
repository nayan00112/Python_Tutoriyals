{
 "cells": [
  {
   "cell_type": "markdown",
   "id": "e2a8808f-02eb-42c9-952b-8f39998935bc",
   "metadata": {},
   "source": [
    "Certainly! Let's explore the **`np.full`** and **`np.eye`** functions in **NumPy**:\n",
    "\n",
    "1. **`np.full`**:\n",
    "   - The **`np.full`** function creates a new array with a specified shape and fills it with a given value.\n",
    "   - Syntax: `np.full(shape, fill_value, dtype=None, order='C')`\n",
    "   - Parameters:\n",
    "     - `shape`: An integer or a sequence of integers representing the shape of the new array (e.g., `(2, 3)` or `2`).\n",
    "     - `fill_value`: The value with which to fill the array.\n",
    "     - `dtype`: Optional data type of the array (default is `None`).\n",
    "     - `order`: Optional parameter specifying the memory layout (either `'C'` for row-major or `'F'` for column-major).\n",
    "   - Example:\n",
    "     ```python\n",
    "     import numpy as np\n",
    "     arr = np.full((3, 4), 5)  # Creates a 3x4 array filled with 5\n",
    "     ```\n",
    "\n",
    "2. **`np.eye`**:\n",
    "   - The **`np.eye`** function returns a 2-D array with ones on the diagonal and zeros elsewhere.\n",
    "   - Syntax: `np.eye(N, M=None, k=0, dtype=float, order='C', like=None)`\n",
    "   - Parameters:\n",
    "     - `N`: Number of rows in the output.\n",
    "     - `M`: Optional number of columns (defaults to `N` if not specified).\n",
    "     - `k`: Index of the diagonal (0 for the main diagonal, positive for upper diagonals, negative for lower diagonals).\n",
    "     - `dtype`: Optional data type (default is `float`).\n",
    "     - `order`: Memory layout ('C' or 'F').\n",
    "   - Example:\n",
    "     ```python\n",
    "     import numpy as np\n",
    "     identity_matrix = np.eye(3)  # Creates a 3x3 identity matrix\n",
    "     ```\n",
    "\n",
    "Remember, **`np.full`** lets you create an array filled with a specific value, while **`np.eye`** generates an identity matrix with ones on the diagonal. Both functions are powerful tools for array creation in NumPy! 🚀\n",
    "\n",
    "For more details, you can refer to the [official NumPy documentation](https://numpy.org/doc/stable/reference/generated/numpy.full.html) and the [NumPy eye documentation](https://numpy.org/doc/stable/reference/generated/numpy.eye.html) ¹⁵..\n",
    "\n",
    "Source: Conversation with Bing, 4/4/2024\n",
    "(1) numpy.eye — NumPy v1.26 Manual. https://numpy.org/doc/stable/reference/generated/numpy.eye.html.\n",
    "(2) numpy.full — NumPy v1.26 Manual. https://numpy.org/doc/stable/reference/generated/numpy.full.html.\n",
    "(3) What are the advantages of using numpy.identity over numpy.eye?. https://stackoverflow.com/questions/28363447/what-are-the-advantages-of-using-numpy-identity-over-numpy-eye.\n",
    "(4) How to use numpy.eye function with custom diagonal values?. https://stackoverflow.com/questions/73324186/how-to-use-numpy-eye-function-with-custom-diagonal-values.\n",
    "(5) NumPy: numpy.full() function - w3resource. https://www.w3resource.com/numpy/array-creation/full.php.\n",
    "(6) en.wikipedia.org. https://en.wikipedia.org/wiki/NumPy."
   ]
  },
  {
   "cell_type": "code",
   "execution_count": 3,
   "id": "e6c26510-4b88-4255-8e05-d82244bc3782",
   "metadata": {},
   "outputs": [
    {
     "name": "stdout",
     "output_type": "stream",
     "text": [
      "[[6 6 6 6 6]\n",
      " [6 6 6 6 6]\n",
      " [6 6 6 6 6]\n",
      " [6 6 6 6 6]]\n"
     ]
    }
   ],
   "source": [
    "import numpy as np\n",
    "\n",
    "a = np.full((4,5), 6)\n",
    "print(a)\n"
   ]
  },
  {
   "cell_type": "code",
   "execution_count": 4,
   "id": "ecfdd23e-dd08-43c1-a6fa-86c2361d01f9",
   "metadata": {},
   "outputs": [
    {
     "data": {
      "text/plain": [
       "array([[1., 0., 0., 0.],\n",
       "       [0., 1., 0., 0.],\n",
       "       [0., 0., 1., 0.],\n",
       "       [0., 0., 0., 1.]])"
      ]
     },
     "execution_count": 4,
     "metadata": {},
     "output_type": "execute_result"
    }
   ],
   "source": [
    "np.eye(4)"
   ]
  },
  {
   "cell_type": "code",
   "execution_count": null,
   "id": "ef036645-d970-4105-9d95-a4543db30fa8",
   "metadata": {},
   "outputs": [],
   "source": []
  }
 ],
 "metadata": {
  "kernelspec": {
   "display_name": "Python 3 (ipykernel)",
   "language": "python",
   "name": "python3"
  },
  "language_info": {
   "codemirror_mode": {
    "name": "ipython",
    "version": 3
   },
   "file_extension": ".py",
   "mimetype": "text/x-python",
   "name": "python",
   "nbconvert_exporter": "python",
   "pygments_lexer": "ipython3",
   "version": "3.12.1"
  }
 },
 "nbformat": 4,
 "nbformat_minor": 5
}
